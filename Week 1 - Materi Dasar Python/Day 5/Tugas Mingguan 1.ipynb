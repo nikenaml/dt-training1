{
 "cells": [
  {
   "cell_type": "code",
   "execution_count": 2,
   "metadata": {},
   "outputs": [],
   "source": [
    "# Buatlah class kalkulator dengan nama cal. isi kelas terdapat init, add (penjumlahan), sub(pengurangan), multiply (perkalian), divide (Pembagian)\n",
    "class cal():\n",
    "    ...\n",
    "        self.a = a\n",
    "        self.b = b\n",
    "    ...\n",
    "        return ...\n",
    "    ...\n",
    "        return ...\n",
    "    ...\n",
    "        return ...\n",
    "    ...\n",
    "        ..."
   ]
  },
  {
   "cell_type": "code",
   "execution_count": 3,
   "metadata": {},
   "outputs": [],
   "source": [
    "# buatlah method dengan nama inputan dan mengembalikan objek\n",
    "...\n",
    "    angkaPertama = int(input('Masukan angka pertama : '))\n",
    "    angkaKedua = int(input('Masukan angka kedua : '))\n",
    "    objek=cal(angkaPertama,angkaKedua)\n",
    "    ..."
   ]
  },
  {
   "cell_type": "code",
   "execution_count": 4,
   "metadata": {},
   "outputs": [
    {
     "name": "stdout",
     "output_type": "stream",
     "text": [
      "Masukan angka pertama : 23\n",
      "Masukan angka kedua : 12\n",
      "1. Tambah \n",
      "2. Kurang \n",
      "3. Kali \n",
      "4. Bagi\n",
      "Pilih Salah Satu dari berikut : 1\n",
      "Result:  35\n",
      "\n",
      "Apakah ingin Kelur [yes/no] ? no\n",
      "Masukan angka pertama : 11\n",
      "Masukan angka kedua : 21\n",
      "1. Tambah \n",
      "2. Kurang \n",
      "3. Kali \n",
      "4. Bagi\n",
      "Pilih Salah Satu dari berikut : 2\n",
      "Result:  -10\n",
      "\n",
      "Apakah ingin Kelur [yes/no] ? no\n",
      "Masukan angka pertama : 21\n",
      "Masukan angka kedua : 23\n",
      "1. Tambah \n",
      "2. Kurang \n",
      "3. Kali \n",
      "4. Bagi\n",
      "Pilih Salah Satu dari berikut : 3\n",
      "Result:  483\n",
      "\n",
      "Apakah ingin Kelur [yes/no] ? no\n",
      "Masukan angka pertama : 32\n",
      "Masukan angka kedua : 12\n",
      "1. Tambah \n",
      "2. Kurang \n",
      "3. Kali \n",
      "4. Bagi\n",
      "Pilih Salah Satu dari berikut : 4\n",
      "Result:  2.6666666666666665\n",
      "\n",
      "Apakah ingin Kelur [yes/no] ? yes\n",
      "terima kasih\n",
      "\n"
     ]
    }
   ],
   "source": [
    "# buatlah perualangan while\n",
    "...\n",
    "    def menu():\n",
    "        x = ('1. Tambah \\n2. Kurang \\n3. Kali \\n4. Bagi') \n",
    "        print(x)\n",
    "    obj = inputan()\n",
    "#     panggil method menu\n",
    "    ...\n",
    "    choice = int(input('Pilih Salah Satu dari berikut : ')) \n",
    "    if choice == 1:\n",
    "        print(\"Result: \",obj.add())\n",
    "    elif choice == 2:\n",
    "        print(\"Result: \",obj.sub())\n",
    "    elif choice == 3:\n",
    "        print(\"Result: \",obj.multiply())    \n",
    "    elif choice == 4:\n",
    "        print(\"Result: \",obj.divide())\n",
    "    else:\n",
    "        print('Pilihan hanya 1 sampai 4')\n",
    "    \n",
    "    print()\n",
    "    keluar = input(\"Apakah ingin Kelur [yes/no] ? \")\n",
    "    if keluar == \"yes\":\n",
    "        print(\"terima kasih\")\n",
    "        break\n",
    "print()"
   ]
  }
 ],
 "metadata": {
  "kernelspec": {
   "display_name": "Python 3",
   "language": "python",
   "name": "python3"
  },
  "language_info": {
   "codemirror_mode": {
    "name": "ipython",
    "version": 3
   },
   "file_extension": ".py",
   "mimetype": "text/x-python",
   "name": "python",
   "nbconvert_exporter": "python",
   "pygments_lexer": "ipython3",
   "version": "3.8.3"
  }
 },
 "nbformat": 4,
 "nbformat_minor": 4
}
