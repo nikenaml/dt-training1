{
 "cells": [
  {
   "cell_type": "code",
   "execution_count": 1,
   "metadata": {},
   "outputs": [
    {
     "name": "stdout",
     "output_type": "stream",
     "text": [
      "[1, 11, 2, 22, 3, 33, 'semangat', 'Belajar']\n",
      "<class 'list'>\n"
     ]
    }
   ],
   "source": [
    "# buatlah List Data dengan isinya : 1, 11, 2, 22, 3, 33,\"semangat\", \"Belajar\"\n",
    "DataList = [1, 11, 2, 22, 3, 33, \"semangat\", \"Belajar\"]\n",
    "print(DataList)\n",
    "print(type(DataList))"
   ]
  },
  {
   "cell_type": "code",
   "execution_count": 14,
   "metadata": {},
   "outputs": [
    {
     "name": "stdout",
     "output_type": "stream",
     "text": [
      "<class 'set'>\n",
      "{1.1, 2.2, 'Hari', 11.1, 22.2, 'Selasa'}\n"
     ]
    }
   ],
   "source": [
    "# buatlah Set dengan isinya : 1.1, 11.1, 2.2, 22.2, \"Hari\", \"Selasa\"\n",
    "DataSet = {1.1, 11.1, 2.2, 22.2, \"Hari\", \"Selasa\"}\n",
    "print(type(DataSet))\n",
    "print(DataSet)"
   ]
  },
  {
   "cell_type": "code",
   "execution_count": 10,
   "metadata": {},
   "outputs": [
    {
     "name": "stdout",
     "output_type": "stream",
     "text": [
      "{'Nama': 'Anggara', 'Belajar': 'Data Science', 'Tempat': 'mutiara technology Indonesia', 'Tahun': 2021, 'Nilai1': 100, 'Nilai2': 90, 'Nilai3': 99, 'Nilai4': 59}\n",
      "<class 'dict'>\n"
     ]
    }
   ],
   "source": [
    "\"\"\" \n",
    "buatlah Dictionary dengan data Nama: Anggara, Belajar: Data Science, Tempat: mutiara technology Indonesuia,\n",
    "Tahun : 2021, Nilai1 : 100, Nlai2: 90, Nilai3: 99, Nilai4:59\n",
    " \n",
    "\"\"\"\n",
    "DataDictionary = {\"Nama\":\"Anggara\", \n",
    "                  \"Belajar\":\"Data Science\", \n",
    "                  \"Tempat\":\"mutiara technology Indonesia\", \n",
    "                  \"Tahun\":2021, \n",
    "                  \"Nilai1\":100, \n",
    "                  \"Nilai2\":90, \n",
    "                  \"Nilai3\":99, \n",
    "                  \"Nilai4\":59\n",
    "                 }\n",
    "print(DataDictionary)\n",
    "print(type(DataDictionary))"
   ]
  },
  {
   "cell_type": "code",
   "execution_count": 7,
   "metadata": {},
   "outputs": [
    {
     "name": "stdout",
     "output_type": "stream",
     "text": [
      "('doni', 65, 43, 65, 12, 100, 4)\n",
      "<class 'tuple'>\n"
     ]
    }
   ],
   "source": [
    "# buatlah sebuah Tuple dengan isi doni, 65, 43, 12, 100, 4 \n",
    "DataTuple = (\"doni\", 65, 43, 12, 100, 4)\n",
    "print(DataTuple)\n",
    "print(type(DataTuple))"
   ]
  },
  {
   "cell_type": "code",
   "execution_count": 9,
   "metadata": {},
   "outputs": [
    {
     "name": "stdout",
     "output_type": "stream",
     "text": [
      "54\n"
     ]
    }
   ],
   "source": [
    "# jumlahkan isi dari DataList pertama dengan isi DataTuple kedua\n",
    "hasilJumlah = DataList[1] + DataTuple[2]\n",
    "print(hasilJumlah)"
   ]
  },
  {
   "cell_type": "code",
   "execution_count": 16,
   "metadata": {},
   "outputs": [
    {
     "name": "stdout",
     "output_type": "stream",
     "text": [
      "False\n"
     ]
    }
   ],
   "source": [
    "# gunakan operator perbandingan Sama dengan antara DataTuple ke 5 dengan DataDictionary key Nilai2\n",
    "HasilBanding = DataTuple[5] == DataDictionary['Nilai2']\n",
    "print(HasilBanding)"
   ]
  },
  {
   "cell_type": "code",
   "execution_count": 17,
   "metadata": {},
   "outputs": [
    {
     "name": "stdout",
     "output_type": "stream",
     "text": [
      "{'Nama': 'Anggara', 'Belajar': 'Data Science', 'Tempat': 'mutiara technology Indonesia', 'Tahun': 2021, 'Nilai1': 100, 'Nilai2': 90, 'Nilai3': 99, 'Nilai4': 59, 'Hobby': 'Sepak bola'}\n"
     ]
    }
   ],
   "source": [
    "# tambahkan key dan nilai DataDictionary dengan isi Hobby:Sepak bola\n",
    "DataDictionary[\"Hobby\"] = \"Sepak bola\"\n",
    "print(DataDictionary)"
   ]
  },
  {
   "cell_type": "code",
   "execution_count": 18,
   "metadata": {},
   "outputs": [
    {
     "name": "stdout",
     "output_type": "stream",
     "text": [
      "[1, 11, 2, 33, 'semangat', 'Belajar']\n"
     ]
    }
   ],
   "source": [
    "# hapus isi DataList ke 3 dengan menggunakan del\n",
    "del(DataList[3])\n",
    "print(DataList)"
   ]
  },
  {
   "cell_type": "code",
   "execution_count": null,
   "metadata": {},
   "outputs": [],
   "source": []
  }
 ],
 "metadata": {
  "kernelspec": {
   "display_name": "Python 3",
   "language": "python",
   "name": "python3"
  },
  "language_info": {
   "codemirror_mode": {
    "name": "ipython",
    "version": 3
   },
   "file_extension": ".py",
   "mimetype": "text/x-python",
   "name": "python",
   "nbconvert_exporter": "python",
   "pygments_lexer": "ipython3",
   "version": "3.8.3"
  }
 },
 "nbformat": 4,
 "nbformat_minor": 4
}
