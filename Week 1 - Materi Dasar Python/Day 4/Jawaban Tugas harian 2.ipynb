{
 "cells": [
  {
   "cell_type": "code",
   "execution_count": 11,
   "metadata": {},
   "outputs": [],
   "source": [
    "# buatlah method yang memunculkan kalimat \"Ayo Semangat mencoba\" dengan nama method memulai\n",
    "def memulai():\n",
    "    print(\"Ayo Semangat mencoba\")"
   ]
  },
  {
   "cell_type": "code",
   "execution_count": 12,
   "metadata": {},
   "outputs": [],
   "source": [
    "# buatlah method perkalian a dan b\n",
    "def perkalian(a,b):\n",
    "    print(\"hasil perkalian\", a*b)"
   ]
  },
  {
   "cell_type": "code",
   "execution_count": 13,
   "metadata": {},
   "outputs": [],
   "source": [
    "# buatlah fungsi pengurangan a dan b\n",
    "def pengurangan(a,b):\n",
    "    return a-b"
   ]
  },
  {
   "cell_type": "code",
   "execution_count": 14,
   "metadata": {},
   "outputs": [],
   "source": [
    "# buatlah fungsi pembagian a dan b\n",
    "def pembagian(a,b):\n",
    "    return a/b"
   ]
  },
  {
   "cell_type": "code",
   "execution_count": 21,
   "metadata": {},
   "outputs": [
    {
     "name": "stdout",
     "output_type": "stream",
     "text": [
      "masukkan angka 100 100\n",
      "masukkan angka 10 10\n",
      "Ayo Semangat mencoba\n",
      "90\n",
      "45.0\n",
      "hasil perkalian 450.0\n",
      "22.5\n",
      "12.5\n",
      "6.25\n",
      "-3.75\n",
      "-1.875\n",
      "-11.875\n"
     ]
    }
   ],
   "source": [
    "# buatlah perulangan dengan menggunakan for, \n",
    "# ketika iterasi ke 0 maka jalankan method memulai, \n",
    "# ketika iterasi ke 3 jalankan method perkalian\n",
    "# ketika iterasi tersebut adalah angka ganjil maka jalankan fungsi pengurangan\n",
    "# ketika iterasi tersebut adalah angka genap maka jalankan fungsi pembagian\n",
    "iterasi = 10\n",
    "input1 = int(input(\"masukkan angka 100 \"))\n",
    "input2 = int(input(\"masukkan angka 10 \"))\n",
    "for iterasi in range(iterasi):\n",
    "    if iterasi == 0:\n",
    "        memulai()\n",
    "    elif iterasi == 3:\n",
    "        perkalian(input1, input2)\n",
    "    elif (iterasi%2) == 1:\n",
    "        input1 = pengurangan(input1, input2)\n",
    "        print(input1)\n",
    "    else:\n",
    "        input1 = pembagian(input1, 2)\n",
    "        print(input1)"
   ]
  },
  {
   "cell_type": "code",
   "execution_count": null,
   "metadata": {},
   "outputs": [],
   "source": []
  }
 ],
 "metadata": {
  "kernelspec": {
   "display_name": "Python 3",
   "language": "python",
   "name": "python3"
  },
  "language_info": {
   "codemirror_mode": {
    "name": "ipython",
    "version": 3
   },
   "file_extension": ".py",
   "mimetype": "text/x-python",
   "name": "python",
   "nbconvert_exporter": "python",
   "pygments_lexer": "ipython3",
   "version": "3.7.9"
  }
 },
 "nbformat": 4,
 "nbformat_minor": 4
}
