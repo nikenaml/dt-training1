{
 "cells": [
  {
   "cell_type": "code",
   "execution_count": 11,
   "metadata": {},
   "outputs": [],
   "source": [
    "# buatlah method yang memunculkan kalimat \"Ayo Semangat mencoba\" dengan nama method memulai\n",
    "...\n",
    "..."
   ]
  },
  {
   "cell_type": "code",
   "execution_count": 12,
   "metadata": {},
   "outputs": [],
   "source": [
    "# buatlah method perkalian a dan b\n",
    "...\n",
    "    print(\"hasil perkalian\", a*b)"
   ]
  },
  {
   "cell_type": "code",
   "execution_count": 13,
   "metadata": {},
   "outputs": [],
   "source": [
    "# buatlah fungsi pengurangan a dan b\n",
    "...\n",
    "..."
   ]
  },
  {
   "cell_type": "code",
   "execution_count": 14,
   "metadata": {},
   "outputs": [],
   "source": [
    "# buatlah fungsi pembagian a dan b\n",
    "...\n",
    "..."
   ]
  },
  {
   "cell_type": "code",
   "execution_count": 21,
   "metadata": {},
   "outputs": [
    {
     "name": "stdout",
     "output_type": "stream",
     "text": [
      "masukkan angka 100 100\n",
      "masukkan angka 10 10\n",
      "Ayo Semangat mencoba\n",
      "90\n",
      "45.0\n",
      "hasil perkalian 450.0\n",
      "22.5\n",
      "12.5\n",
      "6.25\n",
      "-3.75\n",
      "-1.875\n",
      "-11.875\n"
     ]
    }
   ],
   "source": [
    "# buatlah perulangan dengan menggunakan for, \n",
    "# ketika iterasi ke 0 maka jalankan method memulai, \n",
    "# ketika iterasi ke 3 jalankan method perkalian\n",
    "# ketika iterasi tersebut adalah angka ganjil maka jalankan fungsi pengurangan\n",
    "# ketika iterasi tersebut adalah angka genap maka jalankan fungsi pembagian\n",
    "iterasi = 10\n",
    "input1 = int(input(\"masukkan angka 100 \"))\n",
    "input2 = int(input(\"masukkan angka 10 \"))\n",
    "...\n",
    "    ...\n",
    "        ...\n",
    "    ...\n",
    "        ...\n",
    "    ...\n",
    "        input1 = ...\n",
    "        print(input1)\n",
    "    ...\n",
    "        input1 = ...\n",
    "        print(input1)"
   ]
  }
 ],
 "metadata": {
  "kernelspec": {
   "display_name": "Python 3",
   "language": "python",
   "name": "python3"
  },
  "language_info": {
   "codemirror_mode": {
    "name": "ipython",
    "version": 3
   },
   "file_extension": ".py",
   "mimetype": "text/x-python",
   "name": "python",
   "nbconvert_exporter": "python",
   "pygments_lexer": "ipython3",
   "version": "3.8.3"
  }
 },
 "nbformat": 4,
 "nbformat_minor": 4
}
