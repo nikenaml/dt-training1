{
 "cells": [
  {
   "cell_type": "code",
   "execution_count": 111,
   "metadata": {},
   "outputs": [
    {
     "name": "stdout",
     "output_type": "stream",
     "text": [
      "Ayo Semangat mencoba\n"
     ]
    }
   ],
   "source": [
    "# buatlah method yang memunculkan kalimat \"Ayo Semangat mencoba\" dengan nama method memulai\n",
    "def memulai():\n",
    "    print(\"Ayo Semangat mencoba\")\n",
    "    \n",
    "memulai()"
   ]
  },
  {
   "cell_type": "code",
   "execution_count": 112,
   "metadata": {
    "scrolled": true
   },
   "outputs": [
    {
     "name": "stdout",
     "output_type": "stream",
     "text": [
      "hasil perkalian 450\n"
     ]
    }
   ],
   "source": [
    "# buatlah method perkalian a dan b\n",
    "def perkalian(a,b):\n",
    "    print(\"hasil perkalian\", a*b)\n",
    "    \n",
    "a = 45\n",
    "b = 10\n",
    "perkalian(a,b)"
   ]
  },
  {
   "cell_type": "code",
   "execution_count": 113,
   "metadata": {},
   "outputs": [
    {
     "name": "stdout",
     "output_type": "stream",
     "text": [
      "Penggunaan fungsi pengurangan menghasilkan : 90\n"
     ]
    }
   ],
   "source": [
    "# buatlah fungsi pengurangan a dan b\n",
    "def pengurangan(a, b):\n",
    "    kurang = a-b\n",
    "    return kurang\n",
    "\n",
    "print(\"Penggunaan fungsi pengurangan menghasilkan :\" , pengurangan(100,10))"
   ]
  },
  {
   "cell_type": "code",
   "execution_count": 114,
   "metadata": {},
   "outputs": [
    {
     "name": "stdout",
     "output_type": "stream",
     "text": [
      "Penggunaan fungsi pembagian menghasilkan : 45.0\n"
     ]
    }
   ],
   "source": [
    "# buatlah fungsi pembagian a dan b\n",
    "def pembagian(a, b):\n",
    "    bagi = a/b\n",
    "    return bagi;\n",
    "\n",
    "print(\"Penggunaan fungsi pembagian menghasilkan :\" , pembagian(450,10))"
   ]
  },
  {
   "cell_type": "code",
   "execution_count": 125,
   "metadata": {},
   "outputs": [],
   "source": [
    "# buatlah method perkalian a dan b\n",
    "def perkalian(input1,input2):\n",
    "    print(\"hasil perkalian\", input1*input2)\n",
    "\n",
    "# buatlah fungsi pengurangan input1 dan input2\n",
    "def pengurangan(input1,input2):\n",
    "    kurang = input1-input2\n",
    "    return kurang\n",
    "\n",
    "# buatlah fungsi pengurangan input1 dan input2\n",
    "def pembagian(input1,input2):\n",
    "    bagi = input1/input2\n",
    "    return bagi"
   ]
  },
  {
   "cell_type": "code",
   "execution_count": 126,
   "metadata": {
    "scrolled": true
   },
   "outputs": [
    {
     "name": "stdout",
     "output_type": "stream",
     "text": [
      "masukkan angka 100 : 100\n",
      "masukkan angka 10 : 10\n",
      "Ayo Semangat mencoba\n",
      "90\n",
      "45.0\n",
      "hasil perkalian 450.0\n",
      "None\n",
      "22.5\n",
      "12.5\n",
      "6.25\n",
      "-3.75\n",
      "-1.875\n",
      "-11.875\n"
     ]
    }
   ],
   "source": [
    "# buatlah perulangan dengan menggunakan for, \n",
    "# ketika iterasi ke 0 maka jalankan method memulai, \n",
    "# ketika iterasi ke 3 jalankan method perkalian\n",
    "# ketika iterasi tersebut adalah angka ganjil maka jalankan fungsi pengurangan\n",
    "# ketika iterasi tersebut adalah angka genap maka jalankan fungsi pembagian\n",
    "iterasi = 10\n",
    "input1 = int(input(\"masukkan angka 100 : \"))\n",
    "input2 = int(input(\"masukkan angka 10 : \"))\n",
    "for perulangan in range(iterasi):\n",
    "    if perulangan == 0:\n",
    "        memulai()\n",
    "    elif perulangan == 3:\n",
    "        print(perkalian(input1,input2))\n",
    "    elif perulangan %2 == 1:\n",
    "        input1 = pengurangan(input1,input2)\n",
    "        print(input1)\n",
    "    else:\n",
    "        input1 = pembagian(input1,2)\n",
    "        print(input1)"
   ]
  },
  {
   "cell_type": "code",
   "execution_count": null,
   "metadata": {},
   "outputs": [],
   "source": []
  }
 ],
 "metadata": {
  "kernelspec": {
   "display_name": "Python 3",
   "language": "python",
   "name": "python3"
  },
  "language_info": {
   "codemirror_mode": {
    "name": "ipython",
    "version": 3
   },
   "file_extension": ".py",
   "mimetype": "text/x-python",
   "name": "python",
   "nbconvert_exporter": "python",
   "pygments_lexer": "ipython3",
   "version": "3.8.3"
  }
 },
 "nbformat": 4,
 "nbformat_minor": 4
}
