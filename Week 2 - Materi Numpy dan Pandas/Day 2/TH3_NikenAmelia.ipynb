{
 "cells": [
  {
   "cell_type": "code",
   "execution_count": 28,
   "metadata": {},
   "outputs": [],
   "source": [
    "# Import Library NumPy dengan alias sebagai np \n",
    " \n",
    "import numpy as np"
   ]
  },
  {
   "cell_type": "code",
   "execution_count": 31,
   "metadata": {},
   "outputs": [],
   "source": [
    "# Lengkapi code untuk membuat isi array secara manual \n",
    "\n",
    "# array 1 dimensi dengan nilai : 9,8,2,3,4,5\n",
    "nilai_1 = np.array([9,8,2,3,4,5])  \n",
    "\n",
    "# array 2 dimensi dengan nilai : 1,2,2,1,2,1 & 9,8,9,8,9,1\n",
    "nilai_2 = np.array ([[1,2,2,1,2,1],[9,8,9,8,9,1]]) \n",
    "\n",
    "# array 3 dimensi dengan nilai : 1,2,2,1,2,1 & 9,8,9,8,9,1 & 0,1,3,4,5,6\n",
    "nilai_3 = np.array ([[[1,2,2,1,2,1],[9,8,9,8,9,1],[0,1,3,4,5,6]]]) \n"
   ]
  },
  {
   "cell_type": "code",
   "execution_count": 32,
   "metadata": {},
   "outputs": [
    {
     "name": "stdout",
     "output_type": "stream",
     "text": [
      "Expected Result\n",
      "isi array nilai_1:\n",
      "[9 8 2 3 4 5]\n",
      "------------------------\n",
      "isi array nilai_2:\n",
      "[[1 2 2 1 2 1]\n",
      " [9 8 9 8 9 1]]\n",
      "------------------------\n",
      "isi array nilai_3:\n",
      "[[[1 2 2 1 2 1]\n",
      "  [9 8 9 8 9 1]\n",
      "  [0 1 3 4 5 6]]]\n"
     ]
    }
   ],
   "source": [
    "# cetak isi array : \n",
    "print(\"Expected Result\")\n",
    "\n",
    "print(\"isi array nilai_1:\", nilai_1 , sep='\\n')\n",
    "print(\"------------------------\")\n",
    "print(\"isi array nilai_2:\", nilai_2 , sep='\\n') \n",
    "print(\"------------------------\")\n",
    "print(\"isi array nilai_3:\", nilai_3 , sep='\\n')"
   ]
  },
  {
   "cell_type": "code",
   "execution_count": 33,
   "metadata": {},
   "outputs": [],
   "source": [
    "# Lengkapi code untuk membuat isi array secara random \n",
    "\n",
    "np.random.seed(0)\n",
    "\n",
    "# array 1 dimensi dengan nilai random : rentang nilai 0 sampai 100 dengan jumlah elemen 20\n",
    "nilai_4 = np.random.randint(100, size=20) \n",
    "\n",
    "# array 2 dimensi dengan nilai random : rentang nilai :50 dgn dimensi ordo 4 X 4\n",
    "nilai_5 = np.random.randint(50, size=(4,4))\n",
    "\n",
    "# array 3 dimensi dengan nilai random : rentang nilai :50 dgn dimensi ratio 2 X 4 X 6\n",
    "nilai_6 = np.random.randint(50, size=(2,4,6)) \n"
   ]
  },
  {
   "cell_type": "code",
   "execution_count": 34,
   "metadata": {},
   "outputs": [
    {
     "name": "stdout",
     "output_type": "stream",
     "text": [
      "Expected Result\n",
      "isi array nilai_4:\n",
      "[44 47 64 67 67  9 83 21 36 87 70 88 88 12 58 65 39 87 46 88]\n",
      "--------------------------------------------------------------\n",
      "isi array nilai_5:\n",
      "[[17 37 25 13]\n",
      " [ 8  9 20 16]\n",
      " [ 5 15 47  0]\n",
      " [18 35 24 49]]\n",
      "--------------------------------------------------------------\n",
      "isi array nilai_6:\n",
      "[[[29 19 19 14 39 32]\n",
      "  [ 1  9 32 31 10 23]\n",
      "  [35 11 28 34  0  0]\n",
      "  [36  5 38 40 17 15]]\n",
      "\n",
      " [[ 4 41 42 31  1  1]\n",
      "  [39 41 35 38 11 46]\n",
      "  [18 27  0 14 35 12]\n",
      "  [42 20 11  4  6  4]]]\n"
     ]
    }
   ],
   "source": [
    "# Cetak isi array : \n",
    "print(\"Expected Result\")\n",
    "\n",
    "print(\"isi array nilai_4:\", nilai_4, sep='\\n')\n",
    "print(\"--------------------------------------------------------------\")\n",
    "print(\"isi array nilai_5:\", nilai_5, sep='\\n') \n",
    "print(\"--------------------------------------------------------------\")\n",
    "print(\"isi array nilai_6:\", nilai_6, sep='\\n')"
   ]
  },
  {
   "cell_type": "code",
   "execution_count": 35,
   "metadata": {},
   "outputs": [
    {
     "name": "stdout",
     "output_type": "stream",
     "text": [
      "Expected Result\n",
      "ukuran dimensi nilai_1: 1\n",
      "ukuran dimensi nilai_2: 2\n",
      "ukuran dimensi nilai_3: 3\n",
      "ukuran dimensi nilai_4: 1\n",
      "ukuran dimensi nilai_5: 2\n",
      "ukuran dimensi nilai_6: 3\n"
     ]
    }
   ],
   "source": [
    "# Lakukan cek ukuran dimensi setiap array \n",
    "\n",
    "print(\"Expected Result\")\n",
    "print(\"ukuran dimensi nilai_1:\", nilai_1.ndim)\n",
    "print(\"ukuran dimensi nilai_2:\", nilai_2.ndim)\n",
    "print(\"ukuran dimensi nilai_3:\", nilai_3.ndim)\n",
    "print(\"ukuran dimensi nilai_4:\", nilai_4.ndim)\n",
    "print(\"ukuran dimensi nilai_5:\", nilai_5.ndim)\n",
    "print(\"ukuran dimensi nilai_6:\", nilai_6.ndim)"
   ]
  },
  {
   "cell_type": "code",
   "execution_count": 37,
   "metadata": {},
   "outputs": [
    {
     "name": "stdout",
     "output_type": "stream",
     "text": [
      "Expected Result\n",
      "Elemen ke 1 pada nilai_1 : 9\n",
      "Elemen ke 4 pada nilai_1 : 5\n",
      "Elemen ke 9 pada nilai_1 : 3\n",
      "Elemen ke baris 2 kolom 4 pada nilai_2 : 8\n",
      "Elemen ke baris 2 kolom 4 pada nilai_2 : 8\n",
      "Elemen ke baris 1 kolom 2 pada nilai_3 : 8\n",
      "Elemen ke baris 1 kolom 2 pada nilai_3 : 1\n"
     ]
    }
   ],
   "source": [
    "# Lakukan akses pada elemen data dengan kriteria indexing berikut: \n",
    "\n",
    "print(\"Expected Result\")\n",
    "\n",
    "# Lengkapi code indexing pada data array 1 \n",
    "print(\"Elemen ke 1 pada nilai_1 :\",  nilai_1[0])\n",
    "print(\"Elemen ke 4 pada nilai_1 :\",  nilai_1[5])\n",
    "print(\"Elemen ke 9 pada nilai_1 :\",  nilai_1[3])\n",
    "\n",
    "# Lengkapi code indexing pada data array 2 \n",
    "print(\"Elemen ke baris 2 kolom 4 pada nilai_2 :\",  nilai_2[1,3])\n",
    "print(\"Elemen ke baris 2 kolom 4 pada nilai_2 :\",  nilai_2[1,3])\n",
    "\n",
    "# Lengkapi code indexing pada data array 3\n",
    "print(\"Elemen ke baris 1 kolom 2 pada nilai_3 :\",  nilai_3[0,1,1])\n",
    "print(\"Elemen ke baris 1 kolom 2 pada nilai_3 :\",  nilai_3[0,2,1])\n"
   ]
  },
  {
   "cell_type": "code",
   "execution_count": 39,
   "metadata": {},
   "outputs": [
    {
     "name": "stdout",
     "output_type": "stream",
     "text": [
      "Expected Result\n",
      "Hasil join dengan vstack adalah :\n",
      "[[1 2 2 1 2 1]\n",
      " [9 8 9 8 9 1]\n",
      " [5 5 5 5 5 6]\n",
      " [6 6 6 6 6 6]]\n",
      "Hasil join dengan hstack adalah: \n",
      "[[1 2 2 1 2 1 5 5 5 5 5 6]\n",
      " [9 8 9 8 9 1 6 6 6 6 6 6]]\n",
      "--------------------------------------------------------------\n",
      "Hasil join dengan vstack adalah :\n",
      "[[[1 2 2 1 2 1]\n",
      "  [9 8 9 8 9 1]\n",
      "  [0 1 3 4 5 6]]\n",
      "\n",
      " [[5 5 5 5 5 6]\n",
      "  [6 6 6 6 6 6]\n",
      "  [1 2 2 3 3 3]]]\n",
      "Hasil join dengan hstack adalah: \n",
      "[[[1 2 2 1 2 1]\n",
      "  [9 8 9 8 9 1]\n",
      "  [0 1 3 4 5 6]\n",
      "  [5 5 5 5 5 6]\n",
      "  [6 6 6 6 6 6]\n",
      "  [1 2 2 3 3 3]]]\n"
     ]
    }
   ],
   "source": [
    "# Lakukan proses join array\n",
    "print(\"Expected Result\")\n",
    "\n",
    "# 1. Lengkapi code join dengan fungsi np.concate pada nilai_1 dengan menambahkan array nilai_baru = [2,3,4,5,6,6]\n",
    "nilai_baru = np.array([2,3,4,5,6,6])\n",
    "\n",
    "# Mendefinisikan fungsi np.concatenate\n",
    "array_baru = np.concatenate((nilai_1,nilai_baru))\n",
    "\n",
    "# cetak array baru\n",
    "array_baru\n",
    "\n",
    "# 2. lengkapi code join dengan fungsi np.vstack dan np.hstack pada nilai_x2 dengan menambahkan array nilai_baru1 = ([[5,5,5,5,5,6], [6,6,6,6,6,6]])\n",
    "\n",
    "nilai_baru1 = ([[5,5,5,5,5,6], [6,6,6,6,6,6]])\n",
    "\n",
    "# Mendefinisikan fungsi np.vstack\n",
    "array_vstack = np.vstack([nilai_2, nilai_baru1])\n",
    "print(\"Hasil join dengan vstack adalah :\", array_vstack ,sep='\\n')\n",
    "\n",
    "# Mendefinisikan fungsi 2 np.hstack\n",
    "array_hstack = np.hstack([nilai_2, nilai_baru1])\n",
    "print(\"Hasil join dengan hstack adalah: \", array_hstack ,sep='\\n')\n",
    "\n",
    "print(\"--------------------------------------------------------------\")\n",
    "\n",
    "# 3. Lakukan join dengan fungsi np.vstack dan np.hstack pada nilai_x2 dengan menambahkan array nilai_baru2 = ([[[5,5,5,5,5,6], [6,6,6,6,6,6], [1,2,2,3,3,3]]])\n",
    "nilai_baru2 = ([[[5,5,5,5,5,6], [6,6,6,6,6,6], [1,2,2,3,3,3]]])\n",
    "\n",
    "# Mendefinisikan fungsi np.stack\n",
    "array_vstack = np.vstack([nilai_3 , nilai_baru2])\n",
    "print(\"Hasil join dengan vstack adalah :\", array_vstack , sep='\\n')\n",
    "\n",
    "# Mendefinisikan fungsi np.hstack\n",
    "array_hstack = np.hstack ([nilai_3, nilai_baru2 ])\n",
    "print(\"Hasil join dengan hstack adalah: \", array_hstack ,sep='\\n')\n",
    "\n",
    "\n"
   ]
  },
  {
   "cell_type": "code",
   "execution_count": 40,
   "metadata": {
    "scrolled": true
   },
   "outputs": [
    {
     "name": "stdout",
     "output_type": "stream",
     "text": [
      "Expected Result\n"
     ]
    },
    {
     "data": {
      "text/plain": [
       "array([[ 0,  1,  2,  3,  4],\n",
       "       [ 5,  6,  7,  8,  9],\n",
       "       [10, 11, 12, 13, 14],\n",
       "       [15, 16, 17, 18, 19],\n",
       "       [20, 21, 22, 23, 24]])"
      ]
     },
     "execution_count": 40,
     "metadata": {},
     "output_type": "execute_result"
    }
   ],
   "source": [
    "# Lengkapi code untuk membuat isi array dengan rentang nilai 0-25 dengan ukuran dimensi 5x5\n",
    "print(\"Expected Result\")\n",
    "grid = np.arange(25).reshape((5,5))\n",
    "grid\n"
   ]
  },
  {
   "cell_type": "code",
   "execution_count": 46,
   "metadata": {
    "scrolled": true
   },
   "outputs": [
    {
     "name": "stdout",
     "output_type": "stream",
     "text": [
      "Hasil split data atas:\n",
      "[[ 0  1  2  3  4]\n",
      " [ 5  6  7  8  9]\n",
      " [10 11 12 13 14]]\n",
      " Hasil split data bawah:\n",
      "[[15 16 17 18 19]\n",
      " [20 21 22 23 24]]\n",
      "Hasil split data kiri:\n",
      "[[ 0  1  2  3]\n",
      " [ 5  6  7  8]\n",
      " [10 11 12 13]\n",
      " [15 16 17 18]\n",
      " [20 21 22 23]]\n",
      "Hasil split data kanan:\n",
      "[[ 4]\n",
      " [ 9]\n",
      " [14]\n",
      " [19]\n",
      " [24]]\n"
     ]
    }
   ],
   "source": [
    "# Lengkapi code untuk split data dengan fungsi np.vsplit dan np.hsplit\n",
    "\n",
    "# Data digunakan : grid (cek diatas)\n",
    "# Mendefinisikan fungsi np.vsplit untuk melihat data atas dan data bawah dimana pada data atas terdiri atas 3 baris dan data bawah 1 baris \n",
    "data_atas, data_bawah = np.vsplit (grid, [3])\n",
    "print(\"Hasil split data atas:\", data_atas ,sep='\\n')\n",
    "print(\" Hasil split data bawah:\", data_bawah ,sep='\\n') \n",
    "\n",
    "# Mendefinisikan fungsi np.vsplit untuk melihat data kanan dan data kiri dimana pada data kiri terdiri atas 4 kolom dan data kanan 1 kolom \n",
    "data_kiri, data_kanan = np.hsplit(grid, [4])\n",
    "print(\"Hasil split data kiri:\",data_kiri, sep='\\n')\n",
    "print(\"Hasil split data kanan:\",data_kanan, sep='\\n') "
   ]
  },
  {
   "cell_type": "code",
   "execution_count": 47,
   "metadata": {},
   "outputs": [
    {
     "name": "stdout",
     "output_type": "stream",
     "text": [
      "Expected Result\n",
      "Sum :  300\n",
      "Min :  0\n",
      "Max :  24\n",
      "Mean :  12.0\n",
      "Std Deviasi :  7.211102550927978\n"
     ]
    }
   ],
   "source": [
    "# Agregasi\n",
    "\n",
    "print(\"Expected Result\")\n",
    "\n",
    "# Lengkapi code untuk menentukan sum, min & max, mean dan std devisasi pada data \"grid\"\n",
    "print('Sum : ', np.sum(grid))\n",
    "print('Min : ', np.min(grid))\n",
    "print('Max : ', np.max(grid))\n",
    "print('Mean : ', np.mean(grid))\n",
    "print('Std Deviasi : ', np.std(grid))"
   ]
  },
  {
   "cell_type": "code",
   "execution_count": 48,
   "metadata": {},
   "outputs": [],
   "source": [
    "# Lengkapi kode untuk proses komputasi aritmatika \n",
    "x = np.array([[1,2,4,6,8],[3,4,6,8,9]])\n",
    "y = np.array([[5,6,8,9,10],[7,8,4,7,9]])\n",
    "v = np.array([[9,10,2,2,2],[1,2,3,4,5],[1,1,1,1,1]])\n",
    "w = np.array([[11,12,1,1,1],[2,2,2,1,8],[1,8,7,4,2]])"
   ]
  },
  {
   "cell_type": "code",
   "execution_count": 49,
   "metadata": {},
   "outputs": [
    {
     "name": "stdout",
     "output_type": "stream",
     "text": [
      "Expected Result\n"
     ]
    },
    {
     "data": {
      "text/plain": [
       "array([[ 5, 12, 32, 54, 80],\n",
       "       [21, 32, 24, 56, 81]])"
      ]
     },
     "execution_count": 49,
     "metadata": {},
     "output_type": "execute_result"
    }
   ],
   "source": [
    "# Perkalian\n",
    "print(\"Expected Result\")\n",
    "\n",
    "np.multiply(x,y)"
   ]
  },
  {
   "cell_type": "code",
   "execution_count": 50,
   "metadata": {},
   "outputs": [
    {
     "name": "stdout",
     "output_type": "stream",
     "text": [
      "Expected Result\n"
     ]
    },
    {
     "data": {
      "text/plain": [
       "array([[0.2       , 0.33333333, 0.5       , 0.66666667, 0.8       ],\n",
       "       [0.42857143, 0.5       , 1.5       , 1.14285714, 1.        ]])"
      ]
     },
     "execution_count": 50,
     "metadata": {},
     "output_type": "execute_result"
    }
   ],
   "source": [
    "# Pembagian\n",
    "print(\"Expected Result\")\n",
    "\n",
    "np.divide(x,y)"
   ]
  },
  {
   "cell_type": "code",
   "execution_count": 51,
   "metadata": {},
   "outputs": [
    {
     "name": "stdout",
     "output_type": "stream",
     "text": [
      "Expected Result\n"
     ]
    },
    {
     "data": {
      "text/plain": [
       "array([[-2, -2,  1,  1,  1],\n",
       "       [-1,  0,  1,  3, -3],\n",
       "       [ 0, -7, -6, -3, -1]])"
      ]
     },
     "execution_count": 51,
     "metadata": {},
     "output_type": "execute_result"
    }
   ],
   "source": [
    "# Pengurangan\n",
    "print(\"Expected Result\")\n",
    "\n",
    "np.subtract(v, w)"
   ]
  },
  {
   "cell_type": "code",
   "execution_count": 52,
   "metadata": {},
   "outputs": [
    {
     "name": "stdout",
     "output_type": "stream",
     "text": [
      "Expected Result\n"
     ]
    },
    {
     "data": {
      "text/plain": [
       "array([[20, 22,  3,  3,  3],\n",
       "       [ 3,  4,  5,  5, 13],\n",
       "       [ 2,  9,  8,  5,  3]])"
      ]
     },
     "execution_count": 52,
     "metadata": {},
     "output_type": "execute_result"
    }
   ],
   "source": [
    "# Penambahan\n",
    "print(\"Expected Result\")\n",
    "\n",
    "np.add(w,v)"
   ]
  },
  {
   "cell_type": "code",
   "execution_count": 56,
   "metadata": {},
   "outputs": [
    {
     "name": "stdout",
     "output_type": "stream",
     "text": [
      "Expected Result\n"
     ]
    },
    {
     "data": {
      "text/plain": [
       "array([[1.        , 1.41421356, 2.        , 2.44948974, 2.82842712],\n",
       "       [1.73205081, 2.        , 2.44948974, 2.82842712, 3.        ]])"
      ]
     },
     "execution_count": 56,
     "metadata": {},
     "output_type": "execute_result"
    }
   ],
   "source": [
    "# Squar-root (akar)\n",
    "print(\"Expected Result\")\n",
    "\n",
    "np.sqrt(x)"
   ]
  },
  {
   "cell_type": "code",
   "execution_count": 61,
   "metadata": {},
   "outputs": [
    {
     "name": "stdout",
     "output_type": "stream",
     "text": [
      "Expected Result\n"
     ]
    },
    {
     "data": {
      "text/plain": [
       "array([[ 1,  4, 16, 36, 64],\n",
       "       [ 9, 16, 36, 64, 81]], dtype=int32)"
      ]
     },
     "execution_count": 61,
     "metadata": {},
     "output_type": "execute_result"
    }
   ],
   "source": [
    "# Kuadrat\n",
    "print(\"Expected Result\")\n",
    "\n",
    "np.power(x,2)"
   ]
  },
  {
   "cell_type": "code",
   "execution_count": null,
   "metadata": {},
   "outputs": [],
   "source": []
  }
 ],
 "metadata": {
  "kernelspec": {
   "display_name": "Python 3",
   "language": "python",
   "name": "python3"
  },
  "language_info": {
   "codemirror_mode": {
    "name": "ipython",
    "version": 3
   },
   "file_extension": ".py",
   "mimetype": "text/x-python",
   "name": "python",
   "nbconvert_exporter": "python",
   "pygments_lexer": "ipython3",
   "version": "3.8.3"
  }
 },
 "nbformat": 4,
 "nbformat_minor": 2
}
