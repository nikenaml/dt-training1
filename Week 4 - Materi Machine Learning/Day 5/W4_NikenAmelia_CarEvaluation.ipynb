{
 "cells": [
  {
   "cell_type": "code",
   "execution_count": 166,
   "metadata": {},
   "outputs": [],
   "source": [
    "# Mengimpor library\n",
    "import numpy as np # digunakan untuk menangani angka \n",
    "import pandas as pd # digunakan untuk menangani dataset"
   ]
  },
  {
   "cell_type": "markdown",
   "metadata": {},
   "source": [
    "#### Dataset yang digunakan merupakan dataset dari Evaluasi Mobil = https://archive.ics.uci.edu/ml/datasets/Car+Evaluation"
   ]
  },
  {
   "cell_type": "markdown",
   "metadata": {},
   "source": [
    "##### Convert file .txt menjadi .csv"
   ]
  },
  {
   "cell_type": "raw",
   "metadata": {},
   "source": [
    "# readinag given csv file \n",
    "# and creating dataframe \n",
    "dataframe1 = pd.read_csv(\"dataset/car_data.txt\") \n",
    "  \n",
    "# storing this dataframe in a csv file \n",
    "dataframe1.to_csv('dataset/car_data.csv',  \n",
    "                  index = None) "
   ]
  },
  {
   "cell_type": "markdown",
   "metadata": {},
   "source": [
    "### Exploratory Data Analyst"
   ]
  },
  {
   "cell_type": "code",
   "execution_count": 170,
   "metadata": {},
   "outputs": [],
   "source": [
    "# Import file CSV(dapat import file .data atau .txt langsung)\n",
    "header_list = [\"buying\",\"maint\",\"doors\",\"persons\",\"lug_boot\",\"safety\",\"class\"]\n",
    "df = pd.read_csv('dataset/car_data.csv', names=header_list) # untuk mengimpor dataset ke dalam variabel"
   ]
  },
  {
   "cell_type": "code",
   "execution_count": 171,
   "metadata": {
    "scrolled": false
   },
   "outputs": [
    {
     "data": {
      "text/html": [
       "<div>\n",
       "<style scoped>\n",
       "    .dataframe tbody tr th:only-of-type {\n",
       "        vertical-align: middle;\n",
       "    }\n",
       "\n",
       "    .dataframe tbody tr th {\n",
       "        vertical-align: top;\n",
       "    }\n",
       "\n",
       "    .dataframe thead th {\n",
       "        text-align: right;\n",
       "    }\n",
       "</style>\n",
       "<table border=\"1\" class=\"dataframe\">\n",
       "  <thead>\n",
       "    <tr style=\"text-align: right;\">\n",
       "      <th></th>\n",
       "      <th>buying</th>\n",
       "      <th>maint</th>\n",
       "      <th>doors</th>\n",
       "      <th>persons</th>\n",
       "      <th>lug_boot</th>\n",
       "      <th>safety</th>\n",
       "      <th>class</th>\n",
       "    </tr>\n",
       "  </thead>\n",
       "  <tbody>\n",
       "    <tr>\n",
       "      <th>0</th>\n",
       "      <td>vhigh</td>\n",
       "      <td>vhigh</td>\n",
       "      <td>2</td>\n",
       "      <td>2</td>\n",
       "      <td>small</td>\n",
       "      <td>low</td>\n",
       "      <td>unacc</td>\n",
       "    </tr>\n",
       "    <tr>\n",
       "      <th>1</th>\n",
       "      <td>vhigh</td>\n",
       "      <td>vhigh</td>\n",
       "      <td>2</td>\n",
       "      <td>2</td>\n",
       "      <td>small</td>\n",
       "      <td>med</td>\n",
       "      <td>unacc</td>\n",
       "    </tr>\n",
       "    <tr>\n",
       "      <th>2</th>\n",
       "      <td>vhigh</td>\n",
       "      <td>vhigh</td>\n",
       "      <td>2</td>\n",
       "      <td>2</td>\n",
       "      <td>small</td>\n",
       "      <td>high</td>\n",
       "      <td>unacc</td>\n",
       "    </tr>\n",
       "    <tr>\n",
       "      <th>3</th>\n",
       "      <td>vhigh</td>\n",
       "      <td>vhigh</td>\n",
       "      <td>2</td>\n",
       "      <td>2</td>\n",
       "      <td>med</td>\n",
       "      <td>low</td>\n",
       "      <td>unacc</td>\n",
       "    </tr>\n",
       "    <tr>\n",
       "      <th>4</th>\n",
       "      <td>vhigh</td>\n",
       "      <td>vhigh</td>\n",
       "      <td>2</td>\n",
       "      <td>2</td>\n",
       "      <td>med</td>\n",
       "      <td>med</td>\n",
       "      <td>unacc</td>\n",
       "    </tr>\n",
       "  </tbody>\n",
       "</table>\n",
       "</div>"
      ],
      "text/plain": [
       "  buying  maint doors persons lug_boot safety  class\n",
       "0  vhigh  vhigh     2       2    small    low  unacc\n",
       "1  vhigh  vhigh     2       2    small    med  unacc\n",
       "2  vhigh  vhigh     2       2    small   high  unacc\n",
       "3  vhigh  vhigh     2       2      med    low  unacc\n",
       "4  vhigh  vhigh     2       2      med    med  unacc"
      ]
     },
     "execution_count": 171,
     "metadata": {},
     "output_type": "execute_result"
    }
   ],
   "source": [
    "df.head()"
   ]
  },
  {
   "cell_type": "code",
   "execution_count": 136,
   "metadata": {
    "scrolled": false
   },
   "outputs": [
    {
     "data": {
      "text/plain": [
       "buying      0\n",
       "maint       0\n",
       "doors       0\n",
       "persons     0\n",
       "lug_boot    0\n",
       "safety      0\n",
       "class       0\n",
       "dtype: int64"
      ]
     },
     "execution_count": 136,
     "metadata": {},
     "output_type": "execute_result"
    }
   ],
   "source": [
    "# Cek missing value\n",
    "df.isnull().sum()"
   ]
  },
  {
   "cell_type": "code",
   "execution_count": 137,
   "metadata": {},
   "outputs": [],
   "source": [
    "from sklearn.preprocessing import LabelEncoder, OneHotEncoder # digunakan untuk encoding data kategorikal\n",
    "# encode categorical data\n",
    "labelencoder_X = LabelEncoder()\n",
    "df.iloc[:, 0] = labelencoder_X.fit_transform(df.iloc[:, 0])\n",
    "df.iloc[:, 1] = labelencoder_X.fit_transform(df.iloc[:, 1])\n",
    "df.iloc[:, 2] = labelencoder_X.fit_transform(df.iloc[:, 2])\n",
    "df.iloc[:, 3] = labelencoder_X.fit_transform(df.iloc[:, 3])\n",
    "df.iloc[:, 4] = labelencoder_X.fit_transform(df.iloc[:, 4])\n",
    "df.iloc[:, 5] = labelencoder_X.fit_transform(df.iloc[:, 5])\n",
    "df.iloc[:, 6] = labelencoder_X.fit_transform(df.iloc[:, 6])"
   ]
  },
  {
   "cell_type": "code",
   "execution_count": 138,
   "metadata": {},
   "outputs": [
    {
     "data": {
      "text/html": [
       "<div>\n",
       "<style scoped>\n",
       "    .dataframe tbody tr th:only-of-type {\n",
       "        vertical-align: middle;\n",
       "    }\n",
       "\n",
       "    .dataframe tbody tr th {\n",
       "        vertical-align: top;\n",
       "    }\n",
       "\n",
       "    .dataframe thead th {\n",
       "        text-align: right;\n",
       "    }\n",
       "</style>\n",
       "<table border=\"1\" class=\"dataframe\">\n",
       "  <thead>\n",
       "    <tr style=\"text-align: right;\">\n",
       "      <th></th>\n",
       "      <th>buying</th>\n",
       "      <th>maint</th>\n",
       "      <th>doors</th>\n",
       "      <th>persons</th>\n",
       "      <th>lug_boot</th>\n",
       "      <th>safety</th>\n",
       "      <th>class</th>\n",
       "    </tr>\n",
       "  </thead>\n",
       "  <tbody>\n",
       "    <tr>\n",
       "      <th>0</th>\n",
       "      <td>3</td>\n",
       "      <td>3</td>\n",
       "      <td>0</td>\n",
       "      <td>0</td>\n",
       "      <td>2</td>\n",
       "      <td>1</td>\n",
       "      <td>2</td>\n",
       "    </tr>\n",
       "    <tr>\n",
       "      <th>1</th>\n",
       "      <td>3</td>\n",
       "      <td>3</td>\n",
       "      <td>0</td>\n",
       "      <td>0</td>\n",
       "      <td>2</td>\n",
       "      <td>2</td>\n",
       "      <td>2</td>\n",
       "    </tr>\n",
       "    <tr>\n",
       "      <th>2</th>\n",
       "      <td>3</td>\n",
       "      <td>3</td>\n",
       "      <td>0</td>\n",
       "      <td>0</td>\n",
       "      <td>2</td>\n",
       "      <td>0</td>\n",
       "      <td>2</td>\n",
       "    </tr>\n",
       "    <tr>\n",
       "      <th>3</th>\n",
       "      <td>3</td>\n",
       "      <td>3</td>\n",
       "      <td>0</td>\n",
       "      <td>0</td>\n",
       "      <td>1</td>\n",
       "      <td>1</td>\n",
       "      <td>2</td>\n",
       "    </tr>\n",
       "    <tr>\n",
       "      <th>4</th>\n",
       "      <td>3</td>\n",
       "      <td>3</td>\n",
       "      <td>0</td>\n",
       "      <td>0</td>\n",
       "      <td>1</td>\n",
       "      <td>2</td>\n",
       "      <td>2</td>\n",
       "    </tr>\n",
       "    <tr>\n",
       "      <th>...</th>\n",
       "      <td>...</td>\n",
       "      <td>...</td>\n",
       "      <td>...</td>\n",
       "      <td>...</td>\n",
       "      <td>...</td>\n",
       "      <td>...</td>\n",
       "      <td>...</td>\n",
       "    </tr>\n",
       "    <tr>\n",
       "      <th>1723</th>\n",
       "      <td>1</td>\n",
       "      <td>1</td>\n",
       "      <td>3</td>\n",
       "      <td>2</td>\n",
       "      <td>1</td>\n",
       "      <td>2</td>\n",
       "      <td>1</td>\n",
       "    </tr>\n",
       "    <tr>\n",
       "      <th>1724</th>\n",
       "      <td>1</td>\n",
       "      <td>1</td>\n",
       "      <td>3</td>\n",
       "      <td>2</td>\n",
       "      <td>1</td>\n",
       "      <td>0</td>\n",
       "      <td>3</td>\n",
       "    </tr>\n",
       "    <tr>\n",
       "      <th>1725</th>\n",
       "      <td>1</td>\n",
       "      <td>1</td>\n",
       "      <td>3</td>\n",
       "      <td>2</td>\n",
       "      <td>0</td>\n",
       "      <td>1</td>\n",
       "      <td>2</td>\n",
       "    </tr>\n",
       "    <tr>\n",
       "      <th>1726</th>\n",
       "      <td>1</td>\n",
       "      <td>1</td>\n",
       "      <td>3</td>\n",
       "      <td>2</td>\n",
       "      <td>0</td>\n",
       "      <td>2</td>\n",
       "      <td>1</td>\n",
       "    </tr>\n",
       "    <tr>\n",
       "      <th>1727</th>\n",
       "      <td>1</td>\n",
       "      <td>1</td>\n",
       "      <td>3</td>\n",
       "      <td>2</td>\n",
       "      <td>0</td>\n",
       "      <td>0</td>\n",
       "      <td>3</td>\n",
       "    </tr>\n",
       "  </tbody>\n",
       "</table>\n",
       "<p>1728 rows × 7 columns</p>\n",
       "</div>"
      ],
      "text/plain": [
       "      buying  maint  doors  persons  lug_boot  safety  class\n",
       "0          3      3      0        0         2       1      2\n",
       "1          3      3      0        0         2       2      2\n",
       "2          3      3      0        0         2       0      2\n",
       "3          3      3      0        0         1       1      2\n",
       "4          3      3      0        0         1       2      2\n",
       "...      ...    ...    ...      ...       ...     ...    ...\n",
       "1723       1      1      3        2         1       2      1\n",
       "1724       1      1      3        2         1       0      3\n",
       "1725       1      1      3        2         0       1      2\n",
       "1726       1      1      3        2         0       2      1\n",
       "1727       1      1      3        2         0       0      3\n",
       "\n",
       "[1728 rows x 7 columns]"
      ]
     },
     "execution_count": 138,
     "metadata": {},
     "output_type": "execute_result"
    }
   ],
   "source": [
    "df"
   ]
  },
  {
   "cell_type": "code",
   "execution_count": 139,
   "metadata": {
    "scrolled": true
   },
   "outputs": [
    {
     "data": {
      "text/plain": [
       "2    1210\n",
       "0     384\n",
       "1      69\n",
       "3      65\n",
       "Name: class, dtype: int64"
      ]
     },
     "execution_count": 139,
     "metadata": {},
     "output_type": "execute_result"
    }
   ],
   "source": [
    "# Cek jumlah setiap kelas label\n",
    "df['class'].value_counts()"
   ]
  },
  {
   "cell_type": "markdown",
   "metadata": {},
   "source": [
    "### Visualisasi Jumlah Data Kelas Label"
   ]
  },
  {
   "cell_type": "code",
   "execution_count": 140,
   "metadata": {},
   "outputs": [
    {
     "data": {
      "text/plain": [
       "<matplotlib.axes._subplots.AxesSubplot at 0x26cb64e8c70>"
      ]
     },
     "execution_count": 140,
     "metadata": {},
     "output_type": "execute_result"
    },
    {
     "data": {
      "image/png": "[encoded data removed]",
      "text/plain": [
       "<Figure size 432x288 with 1 Axes>"
      ]
     },
     "metadata": {},
     "output_type": "display_data"
    }
   ],
   "source": [
    "# Visualisasi Data\n",
    "import matplotlib.pyplot as plt\n",
    "import seaborn as sns\n",
    "\n",
    "sns.set(style=\"whitegrid\")\n",
    "sns.countplot(df['class'])\n",
    "\n",
    "#plt.savefig(bar_count_label.png)"
   ]
  },
  {
   "cell_type": "code",
   "execution_count": 141,
   "metadata": {},
   "outputs": [
    {
     "data": {
      "image/png": "[encoded data removed]",
      "text/plain": [
       "<Figure size 432x288 with 1 Axes>"
      ]
     },
     "metadata": {},
     "output_type": "display_data"
    }
   ],
   "source": [
    "# Visualisasi data ke bentuk pie chart\n",
    "labels = ['unacc','acc','good','v-good']\n",
    "explode = (0.01,0.01,0.01,0.01) #explode 1st slice\n",
    "\n",
    "#plot\n",
    "fig,ax = plt.subplots()\n",
    "ax.pie(df['class'].value_counts(), labels=labels, autopct='%.1f%%', explode=explode, shadow=True)\n",
    "ax.legend(labels,loc='best')\n",
    "ax.set_aspect('equal')\n",
    "plt.tight_layout\n",
    "plt.show()\n",
    "\n",
    "#plt.savefig('pie.png')"
   ]
  },
  {
   "cell_type": "code",
   "execution_count": 142,
   "metadata": {},
   "outputs": [
    {
     "data": {
      "image/png": "[encoded data removed]",
      "text/plain": [
       "<Figure size 1440x720 with 2 Axes>"
      ]
     },
     "metadata": {},
     "output_type": "display_data"
    }
   ],
   "source": [
    "# Import module\n",
    "import seaborn as sns\n",
    "import matplotlib.pyplot as plt\n",
    "\n",
    "# Melihat korelasi dalam dataset Car_Evaluation\n",
    "df_cars = pd.get_dummies(df)\n",
    "df_cars_corr = df_cars.corr()\n",
    "\n",
    "# Visualisasi Data\n",
    "plt.figure(figsize=(20,10))\n",
    "sns.heatmap(df_cars_corr,annot=True)\n",
    "plt.title(\"correlation df_cars\",fontsize =20)\n",
    "plt.show()"
   ]
  },
  {
   "cell_type": "code",
   "execution_count": 143,
   "metadata": {},
   "outputs": [
    {
     "data": {
      "text/plain": [
       "array([[<matplotlib.axes._subplots.AxesSubplot object at 0x0000026CB5921DF0>]],\n",
       "      dtype=object)"
      ]
     },
     "execution_count": 143,
     "metadata": {},
     "output_type": "execute_result"
    },
    {
     "data": {
      "image/png": "[encoded data removed]",
      "text/plain": [
       "<Figure size 432x288 with 1 Axes>"
      ]
     },
     "metadata": {},
     "output_type": "display_data"
    }
   ],
   "source": [
    "# Data visualisasi dan analisis\n",
    "df['class'].value_counts()\n",
    "df.hist(column='buying', bins=10)"
   ]
  },
  {
   "cell_type": "code",
   "execution_count": 144,
   "metadata": {
    "scrolled": true
   },
   "outputs": [
    {
     "data": {
      "text/plain": [
       "Index(['buying', 'maint', 'doors', 'persons', 'lug_boot', 'safety', 'class'], dtype='object')"
      ]
     },
     "execution_count": 144,
     "metadata": {},
     "output_type": "execute_result"
    }
   ],
   "source": [
    "# Menampilkan fitur dataset\n",
    "df.columns"
   ]
  },
  {
   "cell_type": "markdown",
   "metadata": {},
   "source": [
    "### Ubah bentuk df ke array untuk memudahkan proses pemodelan klasifikasi"
   ]
  },
  {
   "cell_type": "code",
   "execution_count": 145,
   "metadata": {
    "scrolled": false
   },
   "outputs": [
    {
     "name": "stdout",
     "output_type": "stream",
     "text": [
      "[[3 3 0 0 2 1]\n",
      " [3 3 0 0 2 2]\n",
      " [3 3 0 0 2 0]\n",
      " [3 3 0 0 1 1]\n",
      " [3 3 0 0 1 2]]\n",
      "[2 2 2 2 2]\n"
     ]
    }
   ],
   "source": [
    "# Mengkonvert dataframe Pandas ke array Numpy\n",
    "X = df[[\"buying\",\"maint\",\"doors\",\"persons\",\"lug_boot\",\"safety\"]] .values  #.astype(float)\n",
    "print(X[0:5])\n",
    "# Menampilkan label 5 data\n",
    "y = df['class'].values\n",
    "print(y[0:5])"
   ]
  },
  {
   "cell_type": "markdown",
   "metadata": {},
   "source": [
    "### Normalisasi data, Penskalaan Fitur"
   ]
  },
  {
   "cell_type": "code",
   "execution_count": 146,
   "metadata": {
    "scrolled": false
   },
   "outputs": [
    {
     "data": {
      "text/plain": [
       "array([[ 1.34164079,  1.34164079, -1.34164079, -1.22474487,  1.22474487,\n",
       "         0.        ],\n",
       "       [ 1.34164079,  1.34164079, -1.34164079, -1.22474487,  1.22474487,\n",
       "         1.22474487],\n",
       "       [ 1.34164079,  1.34164079, -1.34164079, -1.22474487,  1.22474487,\n",
       "        -1.22474487],\n",
       "       [ 1.34164079,  1.34164079, -1.34164079, -1.22474487,  0.        ,\n",
       "         0.        ],\n",
       "       [ 1.34164079,  1.34164079, -1.34164079, -1.22474487,  0.        ,\n",
       "         1.22474487]])"
      ]
     },
     "execution_count": 146,
     "metadata": {},
     "output_type": "execute_result"
    }
   ],
   "source": [
    "from sklearn.preprocessing import StandardScaler # digunakan untuk penskalaan fitur.\n",
    "sc_X = StandardScaler()\n",
    "X = sc_X.fit_transform(X)\n",
    "X[0:5]"
   ]
  },
  {
   "cell_type": "markdown",
   "metadata": {},
   "source": [
    "### Splitting the dataset into training set and test set"
   ]
  },
  {
   "cell_type": "code",
   "execution_count": 147,
   "metadata": {
    "scrolled": false
   },
   "outputs": [
    {
     "name": "stdout",
     "output_type": "stream",
     "text": [
      "Shape feature and target of df_reviews\n",
      "Shape of X_train : (1382, 6)\n",
      "Shape of y_train: (1382,)\n",
      "Shape of X_test: (346, 6)\n",
      "Shape of y_test: (346,)\n"
     ]
    }
   ],
   "source": [
    "from sklearn.model_selection import train_test_split # digunakan untuk memisahkan data pelatihan dan pengujian\n",
    "\n",
    "# Memisahkan kumpulan data menjadi kumpulan data pelatihan dan pengujian\n",
    "X_train, X_test, Y_train, Y_test = train_test_split(X, y, test_size=0.2, random_state=1)\n",
    "print(\"Shape feature and target of df_reviews\")\n",
    "print(\"Shape of X_train :\",X_train.shape)\n",
    "print(\"Shape of y_train:\", Y_train.shape)\n",
    "print(\"Shape of X_test:\", X_test.shape)\n",
    "print(\"Shape of y_test:\", Y_test.shape)"
   ]
  },
  {
   "cell_type": "markdown",
   "metadata": {},
   "source": [
    "### Proses Pemodelan - Random Forest Classifier"
   ]
  },
  {
   "cell_type": "code",
   "execution_count": 148,
   "metadata": {},
   "outputs": [
    {
     "data": {
      "text/plain": [
       "RandomForestClassifier()"
      ]
     },
     "execution_count": 148,
     "metadata": {},
     "output_type": "execute_result"
    }
   ],
   "source": [
    "#random forest\n",
    "from sklearn.ensemble import RandomForestClassifier\n",
    "\n",
    "##Make module\n",
    "rf = RandomForestClassifier()\n",
    "rf.fit(X_train,Y_train)"
   ]
  },
  {
   "cell_type": "markdown",
   "metadata": {},
   "source": [
    "##### Evaluasi Model"
   ]
  },
  {
   "cell_type": "code",
   "execution_count": 149,
   "metadata": {
    "scrolled": false
   },
   "outputs": [
    {
     "name": "stdout",
     "output_type": "stream",
     "text": [
      "cross validation score {'fit_time': array([0.28648138, 0.26628757, 0.26828241, 0.26719022, 0.2638495 ,\n",
      "       0.27622581, 0.26401854, 0.26628733, 0.26229715, 0.26329565]), 'score_time': array([0.01695466, 0.01695442, 0.01595688, 0.01595736, 0.01640058,\n",
      "       0.02094412, 0.01595736, 0.01595736, 0.01496005, 0.01595688]), 'test_score': array([0.99280576, 0.97841727, 0.99275362, 0.98550725, 0.94927536,\n",
      "       0.97101449, 0.98550725, 0.98550725, 0.98550725, 0.99275362]), 'train_score': array([1., 1., 1., 1., 1., 1., 1., 1., 1., 1.])}\n",
      "====================\n",
      "0.2684215545654297\n",
      "0.01659996509552002\n",
      "1.0\n",
      "0.9819049108539257\n"
     ]
    }
   ],
   "source": [
    "from sklearn.model_selection import KFold #Untuk proses KFoldValidation\n",
    "from sklearn.model_selection import cross_val_score, cross_validate #untuk proses validasi dengan nilai perulangan sesuai nilai K\n",
    "\n",
    "cv = KFold(n_splits=10, shuffle=True, random_state=1)\n",
    "accuracy = cross_validate(rf, X_train, Y_train, cv = cv, return_train_score=True)\n",
    "print('cross validation score', accuracy)\n",
    "\n",
    "waktu_train = accuracy['fit_time'].mean()\n",
    "waktu_test = accuracy['score_time'].mean()\n",
    "train_score = accuracy['train_score'].mean()\n",
    "validate_score = accuracy['test_score'].mean()\n",
    "print(\"====================\")\n",
    "print(waktu_train)\n",
    "print(waktu_test)\n",
    "print(train_score)\n",
    "print(validate_score)"
   ]
  },
  {
   "cell_type": "markdown",
   "metadata": {},
   "source": [
    "##### Nilai Data Latih dan Data Uji"
   ]
  },
  {
   "cell_type": "code",
   "execution_count": 150,
   "metadata": {},
   "outputs": [
    {
     "name": "stdout",
     "output_type": "stream",
     "text": [
      "Accuracy Score of model Random Forest\n",
      "Training of df_reviews : 1.0\n",
      "Testing of df_reviews : 0.976878612716763\n"
     ]
    }
   ],
   "source": [
    "from sklearn.metrics import confusion_matrix, classification_report\n",
    "##df_reviews\n",
    "print(\"Accuracy Score of model Random Forest\")\n",
    "print(\"Training of df_reviews :\", rf.score(X_train,Y_train))\n",
    "print(\"Testing of df_reviews :\", rf.score(X_test,Y_test))"
   ]
  },
  {
   "cell_type": "code",
   "execution_count": 151,
   "metadata": {},
   "outputs": [],
   "source": [
    "from sklearn import metrics \n",
    "from sklearn.metrics import classification_report #untuk proses menampilkan evaluasi\n",
    "from sklearn.metrics import accuracy_score #untuk proses menampilkan hasil akurasi dari proses model klasifikasi\n",
    "from sklearn.metrics import precision_recall_curve #untuk proses menampilkan hasil presisi dan recall dari proses model klasifikasi\n",
    "from sklearn.metrics import f1_score #untuk proses menampilkan hasil f1-score dari proses model klasifikasi\n",
    "from sklearn.metrics import roc_curve, auc #untuk proses menampilkan hasil Area Hitung di Bawah Kurva Karakteristik Operasi "
   ]
  },
  {
   "cell_type": "markdown",
   "metadata": {},
   "source": [
    "### Evaluasi dan Prediksi Model"
   ]
  },
  {
   "cell_type": "code",
   "execution_count": 152,
   "metadata": {
    "scrolled": true
   },
   "outputs": [
    {
     "name": "stdout",
     "output_type": "stream",
     "text": [
      "              precision    recall  f1-score   support\n",
      "\n",
      "           0       0.89      0.98      0.94        59\n",
      "           1       1.00      0.93      0.96        14\n",
      "           2       1.00      0.98      0.99       260\n",
      "           3       1.00      0.92      0.96        13\n",
      "\n",
      "    accuracy                           0.98       346\n",
      "   macro avg       0.97      0.95      0.96       346\n",
      "weighted avg       0.98      0.98      0.98       346\n",
      "\n",
      "\n",
      "\n",
      "Accuracy Score - RF: 0.976878612716763\n",
      "Train Score - RF: 1.0\n",
      "Test Score - RF: 0.976878612716763\n"
     ]
    }
   ],
   "source": [
    "y_pred_rf = rf.predict(X_test)\n",
    "y_pred_train = rf.predict(X_train)\n",
    "\n",
    "# Classify and report the results\n",
    "print(classification_report(Y_test, y_pred_rf))\n",
    "print('\\n')\n",
    "\n",
    "#print('BEST SVM MODEL')\n",
    "print('Accuracy Score - RF:', metrics.accuracy_score(Y_test, y_pred_rf)) \n",
    "\n",
    "print('Train Score - RF:', metrics.accuracy_score(Y_train, y_pred_train)) \n",
    "print('Test Score - RF:', metrics.accuracy_score(Y_test, y_pred_rf)) "
   ]
  },
  {
   "cell_type": "code",
   "execution_count": 153,
   "metadata": {
    "scrolled": false
   },
   "outputs": [
    {
     "data": {
      "text/plain": [
       "array([2, 0, 2, 2, 2, 0, 2, 2, 0, 2, 0, 2, 2, 2, 2, 2, 2, 0, 0, 2, 2, 2,\n",
       "       2, 2, 2, 2, 2, 2, 2, 0, 0, 2, 2, 2, 2, 2, 2, 2, 0, 2, 2, 0, 2, 2,\n",
       "       2, 2, 2, 2, 3, 2, 2, 2, 2, 2, 2, 2, 2, 2, 0, 2, 2, 3, 2, 1, 2, 2,\n",
       "       2, 2, 0, 2, 2, 2, 2, 2, 1, 2, 2, 0, 0, 0, 0, 0, 1, 2, 2, 3, 0, 2,\n",
       "       0, 2, 0, 2, 2, 2, 2, 0, 2, 2, 2, 2, 0, 2, 2, 2, 2, 2, 2, 2, 2, 2,\n",
       "       2, 0, 2, 2, 0, 0, 2, 1, 2, 2, 2, 2, 2, 2, 3, 2, 2, 2, 2, 2, 2, 2,\n",
       "       2, 2, 3, 2, 2, 3, 2, 2, 2, 2, 0, 0, 2, 0, 0, 0, 2, 2, 2, 2, 2, 2,\n",
       "       1, 0, 0, 2, 2, 2, 2, 2, 0, 2, 2, 2, 2, 2, 1, 2, 2, 2, 2, 2, 2, 2,\n",
       "       2, 2, 2, 2, 2, 2, 2, 2, 2, 0, 2, 2, 2, 2, 0, 2, 2, 3, 2, 2, 0, 2,\n",
       "       2, 2, 2, 2, 0, 2, 2, 2, 2, 2, 2, 3, 0, 0, 2, 0, 2, 3, 2, 2, 2, 2,\n",
       "       2, 2, 2, 0, 2, 2, 2, 2, 2, 2, 0, 2, 2, 2, 1, 0, 2, 2, 0, 2, 2, 2,\n",
       "       0, 1, 2, 0, 2, 0, 2, 2, 2, 2, 1, 2, 2, 0, 0, 2, 2, 2, 2, 2, 2, 0,\n",
       "       2, 2, 2, 1, 2, 2, 2, 0, 1, 2, 2, 2, 0, 2, 2, 1, 2, 2, 2, 2, 2, 0,\n",
       "       2, 2, 0, 2, 2, 2, 2, 2, 2, 2, 2, 3, 2, 2, 2, 2, 0, 2, 2, 0, 0, 2,\n",
       "       2, 2, 2, 2, 0, 2, 2, 2, 2, 2, 2, 2, 2, 2, 3, 0, 0, 2, 2, 0, 2, 2,\n",
       "       0, 1, 2, 2, 2, 2, 0, 2, 2, 0, 0, 2, 3, 2, 2, 2])"
      ]
     },
     "execution_count": 153,
     "metadata": {},
     "output_type": "execute_result"
    }
   ],
   "source": [
    "y_pred_rf[0:511]"
   ]
  },
  {
   "cell_type": "markdown",
   "metadata": {},
   "source": [
    "### Visualisasi Pemodelan"
   ]
  },
  {
   "cell_type": "code",
   "execution_count": 154,
   "metadata": {},
   "outputs": [
    {
     "data": {
      "text/html": [
       "<div>\n",
       "<style scoped>\n",
       "    .dataframe tbody tr th:only-of-type {\n",
       "        vertical-align: middle;\n",
       "    }\n",
       "\n",
       "    .dataframe tbody tr th {\n",
       "        vertical-align: top;\n",
       "    }\n",
       "\n",
       "    .dataframe thead th {\n",
       "        text-align: right;\n",
       "    }\n",
       "</style>\n",
       "<table border=\"1\" class=\"dataframe\">\n",
       "  <thead>\n",
       "    <tr style=\"text-align: right;\">\n",
       "      <th></th>\n",
       "      <th>unacc</th>\n",
       "      <th>acc</th>\n",
       "      <th>good</th>\n",
       "      <th>v-good</th>\n",
       "      <th>accuracy</th>\n",
       "      <th>macro avg</th>\n",
       "      <th>weighted avg</th>\n",
       "    </tr>\n",
       "  </thead>\n",
       "  <tbody>\n",
       "    <tr>\n",
       "      <th>precision</th>\n",
       "      <td>0.892308</td>\n",
       "      <td>1.000000</td>\n",
       "      <td>0.996094</td>\n",
       "      <td>1.000000</td>\n",
       "      <td>0.976879</td>\n",
       "      <td>0.972100</td>\n",
       "      <td>0.978701</td>\n",
       "    </tr>\n",
       "    <tr>\n",
       "      <th>recall</th>\n",
       "      <td>0.983051</td>\n",
       "      <td>0.928571</td>\n",
       "      <td>0.980769</td>\n",
       "      <td>0.923077</td>\n",
       "      <td>0.976879</td>\n",
       "      <td>0.953867</td>\n",
       "      <td>0.976879</td>\n",
       "    </tr>\n",
       "    <tr>\n",
       "      <th>f1-score</th>\n",
       "      <td>0.935484</td>\n",
       "      <td>0.962963</td>\n",
       "      <td>0.988372</td>\n",
       "      <td>0.960000</td>\n",
       "      <td>0.976879</td>\n",
       "      <td>0.961705</td>\n",
       "      <td>0.977259</td>\n",
       "    </tr>\n",
       "    <tr>\n",
       "      <th>support</th>\n",
       "      <td>59.000000</td>\n",
       "      <td>14.000000</td>\n",
       "      <td>260.000000</td>\n",
       "      <td>13.000000</td>\n",
       "      <td>0.976879</td>\n",
       "      <td>346.000000</td>\n",
       "      <td>346.000000</td>\n",
       "    </tr>\n",
       "  </tbody>\n",
       "</table>\n",
       "</div>"
      ],
      "text/plain": [
       "               unacc        acc        good     v-good  accuracy   macro avg  \\\n",
       "precision   0.892308   1.000000    0.996094   1.000000  0.976879    0.972100   \n",
       "recall      0.983051   0.928571    0.980769   0.923077  0.976879    0.953867   \n",
       "f1-score    0.935484   0.962963    0.988372   0.960000  0.976879    0.961705   \n",
       "support    59.000000  14.000000  260.000000  13.000000  0.976879  346.000000   \n",
       "\n",
       "           weighted avg  \n",
       "precision      0.978701  \n",
       "recall         0.976879  \n",
       "f1-score       0.977259  \n",
       "support      346.000000  "
      ]
     },
     "metadata": {},
     "output_type": "display_data"
    },
    {
     "data": {
      "image/png": "[encoded data removed]",
      "text/plain": [
       "<Figure size 1152x576 with 1 Axes>"
      ]
     },
     "metadata": {},
     "output_type": "display_data"
    }
   ],
   "source": [
    "\"\"\"\n",
    "Variabel ini digunakan untuk menampung nama label yang digunakan dalam kolom untuk confusion matrix dan berfungsi sebagai tanda\n",
    "label di bagian visualisasi dari classification report\n",
    "\"\"\"\n",
    "target_labels = ['unacc', 'acc', 'good', 'v-good']\n",
    "\n",
    "#store the classification report as a dictionary\n",
    "cr_dict = classification_report(Y_test, y_pred_rf, target_names=target_labels, output_dict=True)\n",
    "\n",
    "#convert the classification report dictionary into a data frame\n",
    "cr_data = pd.DataFrame(cr_dict)\n",
    "display(cr_data)\n",
    "\n",
    "#plot the classification report scores\n",
    "ax=cr_data.iloc[:-1, :4].plot.bar(figsize=(16,8),color=['#E8CBC0','#5bc0de','#d9a7c7','#D3CCE3'])\n",
    "plt.title(\"Random Forest Classification Report\", fontsize=16,ha='center')\n",
    "plt.xlabel('Metrics', labelpad=20, fontsize=14,ha='center')\n",
    "\n",
    "#fix the x-ticktek mark rotation\n",
    "plt.xticks(rotation=0)\n",
    "\n",
    "#create custom y-tick marks and labels for percentage representation\n",
    "#create an array of even tick marks from 0 to 1\n",
    "percent_ticks = np.linspace(0,1,11, endpoint=True)\n",
    "\n",
    "#create a list of strings representing the percentage at each tick\n",
    "percent_labels = [f'{int(t*100)}%' for t in percent_ticks]\n",
    "plt.yticks(ticks=percent_ticks,labels=percent_labels)\n",
    "plt.ylabel('Percentage (%)',  fontsize=14,ha='center')\n",
    "plt.margins(0.2,0.2)\n",
    "\n",
    "for p in ax.patches:\n",
    "    ax.annotate(\n",
    "        \"{}%\".format(str(np.round(p.get_height()*100, 2))),\n",
    "        xy=(p.get_x()*1+p.get_width()/2, p.get_height()*1.02),\n",
    "        fontsize=14,ha='center',\n",
    "    )"
   ]
  },
  {
   "cell_type": "code",
   "execution_count": 155,
   "metadata": {
    "scrolled": true
   },
   "outputs": [
    {
     "name": "stdout",
     "output_type": "stream",
     "text": [
      "[[ 58   0   1   0]\n",
      " [  1  13   0   0]\n",
      " [  5   0 255   0]\n",
      " [  1   0   0  12]]\n"
     ]
    }
   ],
   "source": [
    "from sklearn.metrics import confusion_matrix\n",
    "cm_rf = confusion_matrix(Y_test, y_pred_rf)\n",
    "print(cm_rf)"
   ]
  },
  {
   "cell_type": "code",
   "execution_count": 156,
   "metadata": {},
   "outputs": [
    {
     "data": {
      "image/png": "[encoded data removed]",
      "text/plain": [
       "<Figure size 576x360 with 2 Axes>"
      ]
     },
     "metadata": {},
     "output_type": "display_data"
    }
   ],
   "source": [
    "import seaborn as sns\n",
    "\n",
    "f, ax = plt.subplots(figsize=(8,5))\n",
    "sns.heatmap(confusion_matrix(Y_test, y_pred_rf), annot=True, fmt=\".0f\",\n",
    "ax=ax, cmap='Blues')\n",
    "plt.xlabel(\"Prediksi\")\n",
    "plt.ylabel(\"Aktual\")\n",
    "plt.show()"
   ]
  },
  {
   "cell_type": "markdown",
   "metadata": {},
   "source": [
    "### Proses Pemodelan - Support Vector Machine"
   ]
  },
  {
   "cell_type": "code",
   "execution_count": 157,
   "metadata": {},
   "outputs": [
    {
     "data": {
      "text/plain": [
       "SVC()"
      ]
     },
     "execution_count": 157,
     "metadata": {},
     "output_type": "execute_result"
    }
   ],
   "source": [
    "# #decision tree\n",
    "# from sklearn.tree import DecisionTreeClassifier\n",
    "\n",
    "#svm\n",
    "from sklearn.svm import SVC\n",
    "\n",
    "##Make module\n",
    "svm = SVC()\n",
    "svm.fit(X_train,Y_train)"
   ]
  },
  {
   "cell_type": "code",
   "execution_count": 158,
   "metadata": {},
   "outputs": [
    {
     "name": "stdout",
     "output_type": "stream",
     "text": [
      "cross validation score {'fit_time': array([0.05584836, 0.05330014, 0.05189395, 0.05186486, 0.05386305,\n",
      "       0.05290794, 0.05285907, 0.0518713 , 0.05186462, 0.05186129]), 'score_time': array([0.00398898, 0.00464296, 0.00399685, 0.00398827, 0.0039866 ,\n",
      "       0.00398803, 0.00294328, 0.00404453, 0.0039382 , 0.00398946]), 'test_score': array([0.8705036 , 0.89208633, 0.89130435, 0.88405797, 0.89855072,\n",
      "       0.89855072, 0.88405797, 0.93478261, 0.87681159, 0.87681159]), 'train_score': array([0.92115849, 0.92437651, 0.92604502, 0.9244373 , 0.94292605,\n",
      "       0.92524116, 0.92926045, 0.93167203, 0.92282958, 0.92041801])}\n",
      "====================\n",
      "0.05281345844268799\n",
      "0.003950715065002441\n",
      "0.9268364577971043\n",
      "0.8907517464289437\n"
     ]
    }
   ],
   "source": [
    "from sklearn.model_selection import KFold #Untuk proses KFoldValidation\n",
    "from sklearn.model_selection import cross_val_score, cross_validate #untuk proses validasi dengan nilai perulangan sesuai nilai K\n",
    "\n",
    "cv = KFold(n_splits=10, shuffle=True, random_state=1)\n",
    "accuracy = cross_validate(svm, X_train, Y_train, cv = cv, return_train_score=True)\n",
    "print('cross validation score', accuracy)\n",
    "\n",
    "waktu_train = accuracy['fit_time'].mean()\n",
    "waktu_test = accuracy['score_time'].mean()\n",
    "train_score = accuracy['train_score'].mean()\n",
    "validate_score = accuracy['test_score'].mean()\n",
    "print(\"====================\")\n",
    "print(waktu_train)\n",
    "print(waktu_test)\n",
    "print(train_score)\n",
    "print(validate_score)"
   ]
  },
  {
   "cell_type": "markdown",
   "metadata": {},
   "source": [
    "##### Nilai Data Latih dan Data Uji"
   ]
  },
  {
   "cell_type": "code",
   "execution_count": 159,
   "metadata": {},
   "outputs": [
    {
     "name": "stdout",
     "output_type": "stream",
     "text": [
      "Accuracy Score of model Support Vector Machine\n",
      "Training of df_reviews : 0.9370477568740955\n",
      "Testing of df_reviews : 0.8959537572254336\n"
     ]
    }
   ],
   "source": [
    "from sklearn.metrics import confusion_matrix, classification_report\n",
    "##df_reviews\n",
    "print(\"Accuracy Score of model Support Vector Machine\")\n",
    "print(\"Training of df_reviews :\", svm.score(X_train,Y_train))\n",
    "print(\"Testing of df_reviews :\", svm.score(X_test,Y_test))"
   ]
  },
  {
   "cell_type": "markdown",
   "metadata": {},
   "source": [
    "### Evaluasi dan Prediksi Model"
   ]
  },
  {
   "cell_type": "code",
   "execution_count": 160,
   "metadata": {},
   "outputs": [
    {
     "name": "stdout",
     "output_type": "stream",
     "text": [
      "              precision    recall  f1-score   support\n",
      "\n",
      "           0       0.65      0.86      0.74        59\n",
      "           1       1.00      0.07      0.13        14\n",
      "           2       0.97      0.95      0.96       260\n",
      "           3       1.00      0.85      0.92        13\n",
      "\n",
      "    accuracy                           0.90       346\n",
      "   macro avg       0.90      0.68      0.69       346\n",
      "weighted avg       0.92      0.90      0.89       346\n",
      "\n",
      "\n",
      "\n",
      "Accuracy Score - SVM: 0.8959537572254336\n",
      "Train Score - SVM: 0.9370477568740955\n",
      "Test Score - SVM: 0.8959537572254336\n"
     ]
    }
   ],
   "source": [
    "y_pred_svm = dt.predict(X_test)\n",
    "y_pred_train = dt.predict(X_train)\n",
    "\n",
    "# Classify and report the results\n",
    "print(classification_report(Y_test, y_pred_svm))\n",
    "print('\\n')\n",
    "\n",
    "#print('BEST SVM MODEL')\n",
    "print('Accuracy Score - SVM:', metrics.accuracy_score(Y_test, y_pred_svm)) \n",
    "\n",
    "print('Train Score - SVM:', metrics.accuracy_score(Y_train, y_pred_train)) \n",
    "print('Test Score - SVM:', metrics.accuracy_score(Y_test, y_pred_svm)) "
   ]
  },
  {
   "cell_type": "code",
   "execution_count": 161,
   "metadata": {},
   "outputs": [
    {
     "data": {
      "text/plain": [
       "array([2, 0, 2, 2, 2, 2, 2, 2, 0, 2, 0, 2, 2, 2, 0, 2, 2, 0, 0, 2, 2, 2,\n",
       "       2, 2, 2, 2, 2, 2, 2, 0, 0, 2, 2, 2, 2, 2, 2, 2, 0, 2, 2, 0, 2, 2,\n",
       "       2, 2, 2, 2, 0, 2, 2, 2, 2, 2, 2, 2, 2, 2, 0, 2, 2, 3, 2, 0, 2, 2,\n",
       "       2, 2, 0, 2, 2, 2, 2, 2, 0, 2, 2, 0, 0, 0, 0, 2, 0, 2, 2, 3, 0, 2,\n",
       "       0, 2, 0, 2, 2, 2, 2, 0, 2, 2, 2, 2, 0, 2, 2, 2, 2, 2, 2, 2, 2, 2,\n",
       "       2, 2, 2, 2, 0, 2, 2, 1, 2, 2, 2, 2, 2, 2, 3, 2, 2, 2, 0, 2, 2, 2,\n",
       "       2, 0, 3, 0, 2, 3, 2, 2, 2, 2, 0, 0, 2, 0, 0, 0, 2, 2, 2, 2, 2, 2,\n",
       "       0, 0, 0, 2, 2, 2, 2, 2, 0, 2, 2, 2, 2, 2, 0, 2, 2, 2, 2, 2, 2, 2,\n",
       "       2, 2, 2, 2, 2, 2, 2, 0, 2, 0, 2, 2, 2, 2, 0, 2, 2, 3, 2, 2, 0, 2,\n",
       "       2, 2, 2, 2, 0, 2, 2, 2, 2, 2, 2, 3, 0, 0, 2, 0, 2, 3, 2, 2, 2, 2,\n",
       "       2, 2, 2, 0, 2, 2, 2, 2, 2, 2, 0, 2, 2, 2, 0, 0, 2, 2, 0, 2, 2, 2,\n",
       "       0, 0, 2, 2, 2, 0, 2, 2, 2, 0, 0, 2, 2, 2, 0, 2, 0, 2, 0, 2, 2, 0,\n",
       "       2, 2, 2, 0, 2, 2, 2, 0, 0, 2, 2, 2, 0, 2, 2, 0, 2, 2, 2, 2, 2, 2,\n",
       "       2, 2, 0, 2, 2, 2, 2, 2, 2, 2, 2, 3, 2, 2, 2, 2, 0, 2, 2, 0, 2, 2,\n",
       "       2, 2, 2, 2, 0, 2, 2, 0, 2, 2, 2, 2, 2, 2, 3, 0, 0, 2, 2, 0, 2, 2,\n",
       "       0, 0, 2, 2, 2, 2, 0, 2, 2, 0, 0, 2, 3, 2, 2, 2])"
      ]
     },
     "execution_count": 161,
     "metadata": {},
     "output_type": "execute_result"
    }
   ],
   "source": [
    "y_pred_svm[0:511]"
   ]
  },
  {
   "cell_type": "code",
   "execution_count": 162,
   "metadata": {
    "scrolled": true
   },
   "outputs": [
    {
     "data": {
      "text/html": [
       "<div>\n",
       "<style scoped>\n",
       "    .dataframe tbody tr th:only-of-type {\n",
       "        vertical-align: middle;\n",
       "    }\n",
       "\n",
       "    .dataframe tbody tr th {\n",
       "        vertical-align: top;\n",
       "    }\n",
       "\n",
       "    .dataframe thead th {\n",
       "        text-align: right;\n",
       "    }\n",
       "</style>\n",
       "<table border=\"1\" class=\"dataframe\">\n",
       "  <thead>\n",
       "    <tr style=\"text-align: right;\">\n",
       "      <th></th>\n",
       "      <th>unacc</th>\n",
       "      <th>acc</th>\n",
       "      <th>good</th>\n",
       "      <th>v-good</th>\n",
       "      <th>accuracy</th>\n",
       "      <th>macro avg</th>\n",
       "      <th>weighted avg</th>\n",
       "    </tr>\n",
       "  </thead>\n",
       "  <tbody>\n",
       "    <tr>\n",
       "      <th>precision</th>\n",
       "      <td>0.645570</td>\n",
       "      <td>1.000000</td>\n",
       "      <td>0.968627</td>\n",
       "      <td>1.000000</td>\n",
       "      <td>0.895954</td>\n",
       "      <td>0.903549</td>\n",
       "      <td>0.915988</td>\n",
       "    </tr>\n",
       "    <tr>\n",
       "      <th>recall</th>\n",
       "      <td>0.864407</td>\n",
       "      <td>0.071429</td>\n",
       "      <td>0.950000</td>\n",
       "      <td>0.846154</td>\n",
       "      <td>0.895954</td>\n",
       "      <td>0.682997</td>\n",
       "      <td>0.895954</td>\n",
       "    </tr>\n",
       "    <tr>\n",
       "      <th>f1-score</th>\n",
       "      <td>0.739130</td>\n",
       "      <td>0.133333</td>\n",
       "      <td>0.959223</td>\n",
       "      <td>0.916667</td>\n",
       "      <td>0.895954</td>\n",
       "      <td>0.687088</td>\n",
       "      <td>0.886677</td>\n",
       "    </tr>\n",
       "    <tr>\n",
       "      <th>support</th>\n",
       "      <td>59.000000</td>\n",
       "      <td>14.000000</td>\n",
       "      <td>260.000000</td>\n",
       "      <td>13.000000</td>\n",
       "      <td>0.895954</td>\n",
       "      <td>346.000000</td>\n",
       "      <td>346.000000</td>\n",
       "    </tr>\n",
       "  </tbody>\n",
       "</table>\n",
       "</div>"
      ],
      "text/plain": [
       "               unacc        acc        good     v-good  accuracy   macro avg  \\\n",
       "precision   0.645570   1.000000    0.968627   1.000000  0.895954    0.903549   \n",
       "recall      0.864407   0.071429    0.950000   0.846154  0.895954    0.682997   \n",
       "f1-score    0.739130   0.133333    0.959223   0.916667  0.895954    0.687088   \n",
       "support    59.000000  14.000000  260.000000  13.000000  0.895954  346.000000   \n",
       "\n",
       "           weighted avg  \n",
       "precision      0.915988  \n",
       "recall         0.895954  \n",
       "f1-score       0.886677  \n",
       "support      346.000000  "
      ]
     },
     "metadata": {},
     "output_type": "display_data"
    },
    {
     "data": {
      "image/png": "[encoded data removed]",
      "text/plain": [
       "<Figure size 1152x576 with 1 Axes>"
      ]
     },
     "metadata": {},
     "output_type": "display_data"
    }
   ],
   "source": [
    "\"\"\"\n",
    "Variabel ini digunakan untuk menampung nama label yang digunakan dalam kolom untuk confusion matrix dan berfungsi sebagai tanda\n",
    "label di bagian visualisasi dari classification report\n",
    "\"\"\"\n",
    "target_labels = ['unacc', 'acc', 'good', 'v-good']\n",
    "\n",
    "#store the classification report as a dictionary\n",
    "cr_dict = classification_report(Y_test, y_pred_svm, target_names=target_labels, output_dict=True)\n",
    "\n",
    "#convert the classification report dictionary into a data frame\n",
    "cr_data = pd.DataFrame(cr_dict)\n",
    "display(cr_data)\n",
    "\n",
    "#plot the classification report scores\n",
    "ax=cr_data.iloc[:-1, :4].plot.bar(figsize=(16,8),color=['#E8CBC0','#5bc0de','#d9a7c7','#D3CCE3'])\n",
    "plt.title(\"Support Vector Machine Classification Report\", fontsize=16,ha='center')\n",
    "plt.xlabel('Metrics', labelpad=20, fontsize=14,ha='center')\n",
    "\n",
    "#fix the x-ticktek mark rotation\n",
    "plt.xticks(rotation=0)\n",
    "\n",
    "#create custom y-tick marks and labels for percentage representation\n",
    "#create an array of even tick marks from 0 to 1\n",
    "percent_ticks = np.linspace(0,1,11, endpoint=True)\n",
    "\n",
    "#create a list of strings representing the percentage at each tick\n",
    "percent_labels = [f'{int(t*100)}%' for t in percent_ticks]\n",
    "plt.yticks(ticks=percent_ticks,labels=percent_labels)\n",
    "plt.ylabel('Percentage (%)',  fontsize=14,ha='center')\n",
    "plt.margins(0.2,0.2)\n",
    "\n",
    "for p in ax.patches:\n",
    "    ax.annotate(\n",
    "        \"{}%\".format(str(np.round(p.get_height()*100, 2))),\n",
    "        xy=(p.get_x()*1+p.get_width()/2, p.get_height()*1.02),\n",
    "        fontsize=14,ha='center',\n",
    "    )"
   ]
  },
  {
   "cell_type": "code",
   "execution_count": 163,
   "metadata": {},
   "outputs": [
    {
     "name": "stdout",
     "output_type": "stream",
     "text": [
      "[[ 51   0   8   0]\n",
      " [ 13   1   0   0]\n",
      " [ 13   0 247   0]\n",
      " [  2   0   0  11]]\n"
     ]
    }
   ],
   "source": [
    "from sklearn.metrics import confusion_matrix\n",
    "cm_svm = confusion_matrix(Y_test, y_pred_svm)\n",
    "print(cm_svm)"
   ]
  },
  {
   "cell_type": "code",
   "execution_count": 164,
   "metadata": {},
   "outputs": [
    {
     "data": {
      "image/png": "[encoded data removed]",
      "text/plain": [
       "<Figure size 576x360 with 2 Axes>"
      ]
     },
     "metadata": {},
     "output_type": "display_data"
    }
   ],
   "source": [
    "import seaborn as sns\n",
    "\n",
    "f, ax = plt.subplots(figsize=(8,5))\n",
    "sns.heatmap(confusion_matrix(Y_test, y_pred_svm), annot=True, fmt=\".0f\",\n",
    "ax=ax, cmap='Blues')\n",
    "plt.xlabel(\"Prediksi\")\n",
    "plt.ylabel(\"Aktual\")\n",
    "plt.show()"
   ]
  },
  {
   "cell_type": "markdown",
   "metadata": {},
   "source": [
    "### Perbandingan hasil klasifikasi model algoritma Random Forest dengan SVM"
   ]
  },
  {
   "cell_type": "code",
   "execution_count": 165,
   "metadata": {},
   "outputs": [
    {
     "data": {
      "text/html": [
       "<div>\n",
       "<style scoped>\n",
       "    .dataframe tbody tr th:only-of-type {\n",
       "        vertical-align: middle;\n",
       "    }\n",
       "\n",
       "    .dataframe tbody tr th {\n",
       "        vertical-align: top;\n",
       "    }\n",
       "\n",
       "    .dataframe thead th {\n",
       "        text-align: right;\n",
       "    }\n",
       "</style>\n",
       "<table border=\"1\" class=\"dataframe\">\n",
       "  <thead>\n",
       "    <tr style=\"text-align: right;\">\n",
       "      <th></th>\n",
       "      <th>Random Forest</th>\n",
       "      <th>Support Vector Machine</th>\n",
       "    </tr>\n",
       "  </thead>\n",
       "  <tbody>\n",
       "    <tr>\n",
       "      <th>Accuracy</th>\n",
       "      <td>0.976879</td>\n",
       "      <td>0.895954</td>\n",
       "    </tr>\n",
       "  </tbody>\n",
       "</table>\n",
       "</div>"
      ],
      "text/plain": [
       "          Random Forest  Support Vector Machine\n",
       "Accuracy       0.976879                0.895954"
      ]
     },
     "metadata": {},
     "output_type": "display_data"
    },
    {
     "data": {
      "image/png": "[encoded data removed]",
      "text/plain": [
       "<Figure size 720x576 with 1 Axes>"
      ]
     },
     "metadata": {},
     "output_type": "display_data"
    }
   ],
   "source": [
    "#store the classification report as a dictionary\n",
    "clf_rf = metrics.accuracy_score(Y_test, y_pred_rf)\n",
    "clf_svm = metrics.accuracy_score(Y_test, y_pred_svm)\n",
    "cr_dict = [clf_rf, clf_svm, clf_svm]\n",
    "\n",
    "#convert the classification report dictionary into a data frame\n",
    "cr_data = pd.DataFrame({\n",
    "    \"Random Forest\":[clf_rf],\n",
    "    \"Support Vector Machine\":[clf_svm],\n",
    "},\n",
    "index = [\"Accuracy\"])\n",
    "display(cr_data)\n",
    "\n",
    "ax = cr_data.plot.bar(figsize=(10,8),color=['#D3CCE3','#E8CBC0'])\n",
    "#plt.bar(cr_data, figsize=(10,8),color=['#5bc0de', '#d8634f'])\n",
    "plt.title(\"Comparison Accuracy Models Report\",fontsize=16,ha='center')\n",
    "plt.xlabel('Metric', labelpad=20, fontsize=14,ha='center')\n",
    "\n",
    "#fix the x-tick mark rotation\n",
    "plt.xticks(rotation=0)\n",
    "\n",
    "#create custom y-tick marks and labels for percentage representation\n",
    "#create an array of even tick marks from 0 to 1\n",
    "percent_ticks = np.linspace(0,1,11, endpoint=True)\n",
    "\n",
    "#create a list of strings representing the percentage at each tick\n",
    "percent_labels = [f'{int(t*100)}%' for t in percent_ticks]\n",
    "plt.yticks(ticks=percent_ticks,labels=percent_labels)\n",
    "plt.ylabel('Accuracy Percentage (%)', fontsize=14,ha='center')\n",
    "\n",
    "for p in ax.patches:\n",
    "    ax.annotate(\n",
    "        \"{}%\".format(str(np.round(p.get_height()*100, 2))),\n",
    "        xy=(p.get_x()*1+p.get_width()/2, p.get_height()*1.02),\n",
    "        ha='center', fontsize=14)"
   ]
  }
 ],
 "metadata": {
  "kernelspec": {
   "display_name": "Python 3",
   "language": "python",
   "name": "python3"
  },
  "language_info": {
   "codemirror_mode": {
    "name": "ipython",
    "version": 3
   },
   "file_extension": ".py",
   "mimetype": "text/x-python",
   "name": "python",
   "nbconvert_exporter": "python",
   "pygments_lexer": "ipython3",
   "version": "3.8.3"
  }
 },
 "nbformat": 4,
 "nbformat_minor": 4
}
