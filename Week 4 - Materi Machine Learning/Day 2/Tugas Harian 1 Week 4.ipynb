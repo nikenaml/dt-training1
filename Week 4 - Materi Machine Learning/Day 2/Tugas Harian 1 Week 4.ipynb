{
  "nbformat": 4,
  "nbformat_minor": 0,
  "metadata": {
    "kernelspec": {
      "display_name": "Python 3",
      "language": "python",
      "name": "python3"
    },
    "language_info": {
      "codemirror_mode": {
        "name": "ipython",
        "version": 3
      },
      "file_extension": ".py",
      "mimetype": "text/x-python",
      "name": "python",
      "nbconvert_exporter": "python",
      "pygments_lexer": "ipython3",
      "version": "3.8.3"
    },
    "colab": {
      "name": "Soal Tugas Harian 1 Week 4.ipynb",
      "provenance": [],
      "collapsed_sections": []
    }
  },
  "cells": [
    {
      "cell_type": "code",
      "metadata": {
        "id": "iqLtMKR5GXUX"
      },
      "source": [
        "# Mengimpor perpustakaan"
      ],
      "execution_count": null,
      "outputs": []
    },
    {
      "cell_type": "code",
      "metadata": {
        "id": "sZ7sllQzGXUk"
      },
      "source": [
        "dataset = pd. ... # untuk mengimpor dataset ke dalam variabel\n",
        "# Memisahkan atribut menjadi atribut independen dan dependen \n",
        "X = ... # atribut untuk menentukan variabel dependen / Kelas \n",
        "Y = ... # variabel dependen / Kelas"
      ],
      "execution_count": null,
      "outputs": []
    },
    {
      "cell_type": "code",
      "metadata": {
        "id": "s5nDdX01GXUl",
        "colab": {
          "base_uri": "https://localhost:8080/",
          "height": 197
        },
        "outputId": "aa2c5a9f-b315-43d2-8841-ad6bc1048ad9"
      },
      "source": [
        "dataset.head()"
      ],
      "execution_count": null,
      "outputs": [
        {
          "output_type": "execute_result",
          "data": {
            "text/html": [
              "<div>\n",
              "<style scoped>\n",
              "    .dataframe tbody tr th:only-of-type {\n",
              "        vertical-align: middle;\n",
              "    }\n",
              "\n",
              "    .dataframe tbody tr th {\n",
              "        vertical-align: top;\n",
              "    }\n",
              "\n",
              "    .dataframe thead th {\n",
              "        text-align: right;\n",
              "    }\n",
              "</style>\n",
              "<table border=\"1\" class=\"dataframe\">\n",
              "  <thead>\n",
              "    <tr style=\"text-align: right;\">\n",
              "      <th></th>\n",
              "      <th>Wilayah</th>\n",
              "      <th>Umur</th>\n",
              "      <th>Pemasukan</th>\n",
              "      <th>Jual Online</th>\n",
              "    </tr>\n",
              "  </thead>\n",
              "  <tbody>\n",
              "    <tr>\n",
              "      <th>0</th>\n",
              "      <td>Riau</td>\n",
              "      <td>49.0</td>\n",
              "      <td>86400.0</td>\n",
              "      <td>No</td>\n",
              "    </tr>\n",
              "    <tr>\n",
              "      <th>1</th>\n",
              "      <td>Aceh</td>\n",
              "      <td>NaN</td>\n",
              "      <td>NaN</td>\n",
              "      <td>Yes</td>\n",
              "    </tr>\n",
              "    <tr>\n",
              "      <th>2</th>\n",
              "      <td>Jakarta</td>\n",
              "      <td>35.0</td>\n",
              "      <td>64800.0</td>\n",
              "      <td>No</td>\n",
              "    </tr>\n",
              "    <tr>\n",
              "      <th>3</th>\n",
              "      <td>Aceh</td>\n",
              "      <td>43.0</td>\n",
              "      <td>73200.0</td>\n",
              "      <td>No</td>\n",
              "    </tr>\n",
              "    <tr>\n",
              "      <th>4</th>\n",
              "      <td>Jakarta</td>\n",
              "      <td>45.0</td>\n",
              "      <td>NaN</td>\n",
              "      <td>Yes</td>\n",
              "    </tr>\n",
              "  </tbody>\n",
              "</table>\n",
              "</div>"
            ],
            "text/plain": [
              "   Wilayah  Umur  Pemasukan Jual Online\n",
              "0     Riau  49.0    86400.0          No\n",
              "1     Aceh   NaN        NaN         Yes\n",
              "2  Jakarta  35.0    64800.0          No\n",
              "3     Aceh  43.0    73200.0          No\n",
              "4  Jakarta  45.0        NaN         Yes"
            ]
          },
          "metadata": {
            "tags": []
          },
          "execution_count": 3
        }
      ]
    },
    {
      "cell_type": "code",
      "metadata": {
        "id": "QuH4q0lCGXUo",
        "colab": {
          "base_uri": "https://localhost:8080/"
        },
        "outputId": "825e4faf-cee5-458e-9577-418813307f62"
      },
      "source": [
        "X"
      ],
      "execution_count": null,
      "outputs": [
        {
          "output_type": "execute_result",
          "data": {
            "text/plain": [
              "array([['Riau', 49.0, 86400.0],\n",
              "       ['Aceh', nan, nan],\n",
              "       ['Jakarta', 35.0, 64800.0],\n",
              "       ['Aceh', 43.0, 73200.0],\n",
              "       ['Jakarta', 45.0, nan],\n",
              "       ['Riau', 40.0, 69600.0],\n",
              "       ['Aceh', nan, 62400.0],\n",
              "       ['Riau', 53.0, 94800.0],\n",
              "       ['Jakarta', 55.0, 99600.0],\n",
              "       ['Riau', 42.0, 80400.0],\n",
              "       ['Riau', 56.0, 94800.0],\n",
              "       ['Jakarta', 54.0, 70600.0],\n",
              "       ['Riau', 49.0, 60400.0]], dtype=object)"
            ]
          },
          "metadata": {
            "tags": []
          },
          "execution_count": 4
        }
      ]
    },
    {
      "cell_type": "code",
      "metadata": {
        "id": "yUK67G44GXUp",
        "colab": {
          "base_uri": "https://localhost:8080/"
        },
        "outputId": "e100e12c-0396-44a2-96fb-202ae098f62f"
      },
      "source": [
        "Y"
      ],
      "execution_count": null,
      "outputs": [
        {
          "output_type": "execute_result",
          "data": {
            "text/plain": [
              "array(['No', 'Yes', 'No', 'No', 'Yes', 'Yes', 'No', 'Yes', 'No', 'Yes',\n",
              "       'Yes', 'No', 'Yes'], dtype=object)"
            ]
          },
          "metadata": {
            "tags": []
          },
          "execution_count": 5
        }
      ]
    },
    {
      "cell_type": "code",
      "metadata": {
        "id": "BaxEmc9TGXUp"
      },
      "source": [
        "# Penanganan Data yang Hilang\n",
        "# menangani data yang hilang dan mengganti nilai yang hilang dengan nan dari numpy dan mengganti dengan median dari semua nilai lainnya \n",
        "imputer = ... \n",
        "imputer = ...\n",
        "X [:, 1:] = imputer.transform (X [:, 1:])"
      ],
      "execution_count": null,
      "outputs": []
    },
    {
      "cell_type": "code",
      "metadata": {
        "id": "VhXKk7JwGXUq",
        "colab": {
          "base_uri": "https://localhost:8080/"
        },
        "outputId": "22954869-47e7-4dc1-e965-1e2a31705c33"
      },
      "source": [
        "X"
      ],
      "execution_count": null,
      "outputs": [
        {
          "output_type": "execute_result",
          "data": {
            "text/plain": [
              "array([['Riau', 49.0, 86400.0],\n",
              "       ['Aceh', 47.36363636363637, 77909.09090909091],\n",
              "       ['Jakarta', 35.0, 64800.0],\n",
              "       ['Aceh', 43.0, 73200.0],\n",
              "       ['Jakarta', 45.0, 77909.09090909091],\n",
              "       ['Riau', 40.0, 69600.0],\n",
              "       ['Aceh', 47.36363636363637, 62400.0],\n",
              "       ['Riau', 53.0, 94800.0],\n",
              "       ['Jakarta', 55.0, 99600.0],\n",
              "       ['Riau', 42.0, 80400.0],\n",
              "       ['Riau', 56.0, 94800.0],\n",
              "       ['Jakarta', 54.0, 70600.0],\n",
              "       ['Riau', 49.0, 60400.0]], dtype=object)"
            ]
          },
          "metadata": {
            "tags": []
          },
          "execution_count": 7
        }
      ]
    },
    {
      "cell_type": "code",
      "metadata": {
        "id": "73c8BBP1GXUr"
      },
      "source": [
        "# encode categorical data\n",
        "labelencoder_X = LabelEncoder()\n",
        "X[:, 0] = ..."
      ],
      "execution_count": null,
      "outputs": []
    },
    {
      "cell_type": "code",
      "metadata": {
        "id": "SzSzofHHGXUs",
        "colab": {
          "base_uri": "https://localhost:8080/"
        },
        "outputId": "51fbbb91-4c61-4461-a48c-a7cfcdf9f5fd"
      },
      "source": [
        "X"
      ],
      "execution_count": null,
      "outputs": [
        {
          "output_type": "execute_result",
          "data": {
            "text/plain": [
              "array([[2, 49.0, 86400.0],\n",
              "       [0, 47.36363636363637, 77909.09090909091],\n",
              "       [1, 35.0, 64800.0],\n",
              "       [0, 43.0, 73200.0],\n",
              "       [1, 45.0, 77909.09090909091],\n",
              "       [2, 40.0, 69600.0],\n",
              "       [0, 47.36363636363637, 62400.0],\n",
              "       [2, 53.0, 94800.0],\n",
              "       [1, 55.0, 99600.0],\n",
              "       [2, 42.0, 80400.0],\n",
              "       [2, 56.0, 94800.0],\n",
              "       [1, 54.0, 70600.0],\n",
              "       [2, 49.0, 60400.0]], dtype=object)"
            ]
          },
          "metadata": {
            "tags": []
          },
          "execution_count": 9
        }
      ]
    },
    {
      "cell_type": "code",
      "metadata": {
        "id": "H0two9y9GXUs"
      },
      "source": [
        "onehotencoder = OneHotEncoder()\n",
        "X_category = ...\n",
        "labelencoder_Y = LabelEncoder()\n",
        "Y = ..."
      ],
      "execution_count": null,
      "outputs": []
    },
    {
      "cell_type": "code",
      "metadata": {
        "id": "Qb_eZQrwGXUt",
        "colab": {
          "base_uri": "https://localhost:8080/"
        },
        "outputId": "8f7265cf-99f9-43cf-cbec-d607ead5866d"
      },
      "source": [
        ""
      ],
      "execution_count": null,
      "outputs": [
        {
          "output_type": "execute_result",
          "data": {
            "text/plain": [
              "array([[0., 0., 1.],\n",
              "       [1., 0., 0.],\n",
              "       [0., 1., 0.],\n",
              "       [1., 0., 0.],\n",
              "       [0., 1., 0.],\n",
              "       [0., 0., 1.],\n",
              "       [1., 0., 0.],\n",
              "       [0., 0., 1.],\n",
              "       [0., 1., 0.],\n",
              "       [0., 0., 1.],\n",
              "       [0., 0., 1.],\n",
              "       [0., 1., 0.],\n",
              "       [0., 0., 1.]])"
            ]
          },
          "metadata": {
            "tags": []
          },
          "execution_count": 11
        }
      ]
    },
    {
      "cell_type": "code",
      "metadata": {
        "id": "G2KM7aQ2GXUu",
        "colab": {
          "base_uri": "https://localhost:8080/"
        },
        "outputId": "6098fb67-b537-48b2-ef44-c2d82a10c51c"
      },
      "source": [
        ""
      ],
      "execution_count": null,
      "outputs": [
        {
          "output_type": "execute_result",
          "data": {
            "text/plain": [
              "array([0, 1, 0, 0, 1, 1, 0, 1, 0, 1, 1, 0, 1])"
            ]
          },
          "metadata": {
            "tags": []
          },
          "execution_count": 12
        }
      ]
    },
    {
      "cell_type": "code",
      "metadata": {
        "id": "pgVqQmTdGXUu",
        "colab": {
          "base_uri": "https://localhost:8080/"
        },
        "outputId": "9e05bc81-4313-4b0d-e8eb-43403ff25dbb"
      },
      "source": [
        "X = np.concatenate((X_category, X[:,1:]), axis=1)\n",
        "X"
      ],
      "execution_count": null,
      "outputs": [
        {
          "output_type": "execute_result",
          "data": {
            "text/plain": [
              "array([[0.0, 0.0, 1.0, 49.0, 86400.0],\n",
              "       [1.0, 0.0, 0.0, 47.36363636363637, 77909.09090909091],\n",
              "       [0.0, 1.0, 0.0, 35.0, 64800.0],\n",
              "       [1.0, 0.0, 0.0, 43.0, 73200.0],\n",
              "       [0.0, 1.0, 0.0, 45.0, 77909.09090909091],\n",
              "       [0.0, 0.0, 1.0, 40.0, 69600.0],\n",
              "       [1.0, 0.0, 0.0, 47.36363636363637, 62400.0],\n",
              "       [0.0, 0.0, 1.0, 53.0, 94800.0],\n",
              "       [0.0, 1.0, 0.0, 55.0, 99600.0],\n",
              "       [0.0, 0.0, 1.0, 42.0, 80400.0],\n",
              "       [0.0, 0.0, 1.0, 56.0, 94800.0],\n",
              "       [0.0, 1.0, 0.0, 54.0, 70600.0],\n",
              "       [0.0, 0.0, 1.0, 49.0, 60400.0]], dtype=object)"
            ]
          },
          "metadata": {
            "tags": []
          },
          "execution_count": 13
        }
      ]
    },
    {
      "cell_type": "code",
      "metadata": {
        "id": "TPUjs7uZGXUv",
        "colab": {
          "base_uri": "https://localhost:8080/"
        },
        "outputId": "e3561b10-a607-428c-8579-cd603acdc886"
      },
      "source": [
        "# Memisahkan kumpulan data menjadi kumpulan data pelatihan dan pengujian\n",
        "# splitting the dataset into training set and test set\n",
        "X_train, X_test, Y_train, Y_test = ...(X, Y, test_size=0.3, random_state=0)\n",
        "print('X_train =', X_train)\n",
        "print('Y_train =', X_test)"
      ],
      "execution_count": null,
      "outputs": [
        {
          "output_type": "stream",
          "text": [
            "X_train = [[0.0 1.0 0.0 35.0 64800.0]\n",
            " [0.0 1.0 0.0 55.0 99600.0]\n",
            " [1.0 0.0 0.0 47.36363636363637 77909.09090909091]\n",
            " [0.0 0.0 1.0 53.0 94800.0]\n",
            " [0.0 0.0 1.0 42.0 80400.0]\n",
            " [1.0 0.0 0.0 43.0 73200.0]\n",
            " [0.0 0.0 1.0 49.0 86400.0]\n",
            " [0.0 0.0 1.0 40.0 69600.0]\n",
            " [0.0 0.0 1.0 49.0 60400.0]]\n",
            "Y_train = [[1.0 0.0 0.0 47.36363636363637 62400.0]\n",
            " [0.0 1.0 0.0 54.0 70600.0]\n",
            " [0.0 1.0 0.0 45.0 77909.09090909091]\n",
            " [0.0 0.0 1.0 56.0 94800.0]]\n"
          ],
          "name": "stdout"
        }
      ]
    },
    {
      "cell_type": "code",
      "metadata": {
        "id": "rw3_q-LEGXUw"
      },
      "source": [
        "# Penskalaan Fitur\n",
        "sc_X = StandardScaler()\n",
        "X_train = sc_X. ...\n",
        "X_test = sc_X.transform(...)"
      ],
      "execution_count": null,
      "outputs": []
    },
    {
      "cell_type": "code",
      "metadata": {
        "id": "SvH2su0aGXUx",
        "colab": {
          "base_uri": "https://localhost:8080/"
        },
        "outputId": "b5cc0e6d-c58e-4631-d65a-93ca13ae2b9e"
      },
      "source": [
        "print('X_train =', X_train)\n",
        "print('X_test =', X_test)"
      ],
      "execution_count": null,
      "outputs": [
        {
          "output_type": "stream",
          "text": [
            "X_train = [[-0.53452248  1.87082869 -1.11803399 -1.79997153 -1.10393775]\n",
            " [-0.53452248  1.87082869 -1.11803399  1.49387655  1.68644108]\n",
            " [ 1.87082869 -0.53452248 -1.11803399  0.23622547 -0.05280759]\n",
            " [-0.53452248 -0.53452248  0.89442719  1.16449175  1.30156124]\n",
            " [-0.53452248 -0.53452248  0.89442719 -0.6471247   0.14692172]\n",
            " [ 1.87082869 -0.53452248 -1.11803399 -0.48243229 -0.43039803]\n",
            " [-0.53452248 -0.53452248  0.89442719  0.50572213  0.62802152]\n",
            " [-0.53452248 -0.53452248  0.89442719 -0.97650951 -0.71905791]\n",
            " [-0.53452248 -0.53452248  0.89442719  0.50572213 -1.45674427]]\n",
            "X_test = [[ 1.87082869 -0.53452248 -1.11803399  0.23622547 -1.29637767]\n",
            " [-0.53452248  1.87082869 -1.11803399  1.32918415 -0.63887461]\n",
            " [-0.53452248  1.87082869 -1.11803399 -0.15304749 -0.05280759]\n",
            " [-0.53452248 -0.53452248  0.89442719  1.65856896  1.30156124]]\n"
          ],
          "name": "stdout"
        }
      ]
    }
  ]
}