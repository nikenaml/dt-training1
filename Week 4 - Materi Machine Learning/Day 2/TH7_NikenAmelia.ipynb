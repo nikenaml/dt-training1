{
 "cells": [
  {
   "cell_type": "code",
   "execution_count": 1,
   "metadata": {},
   "outputs": [],
   "source": [
    "# Import Library \n",
    "# Mengimpor library\n",
    "import numpy as np # digunakan untuk menangani angka \n",
    "import pandas as pd # digunakan untuk menangani dataset\n",
    "from sklearn.impute import SimpleImputer # digunakan untuk menangani data yang hilang\n",
    "from sklearn.preprocessing import LabelEncoder, OneHotEncoder # digunakan untuk encoding data kategorikal\n",
    "from sklearn.compose import ColumnTransformer\n",
    "from sklearn.model_selection import train_test_split # digunakan untuk memisahkan data pelatihan dan pengujian\n",
    "from sklearn.preprocessing import StandardScaler # digunakan untuk penskalaan fitur."
   ]
  },
  {
   "cell_type": "markdown",
   "metadata": {},
   "source": [
    "#Jika data dalam bentuk dataframe maka untuk mengambil setiap baris dan kolom pergunakan iloc atau loc, seperti imputer = imputer.fit (X.iloc[:, 1: ]). Tetapi, jika data dalam bentuk array tidak mempergunakan iloc atau loc"
   ]
  },
  {
   "cell_type": "code",
   "execution_count": 2,
   "metadata": {},
   "outputs": [],
   "source": [
    "dataset = pd.read_csv('DataSoal.csv') # untuk mengimpor dataset ke dalam variabel\n",
    "# Memisahkan atribut menjadi atribut independen dan dependen \n",
    "X = np.array(dataset.drop('Jual Online', axis=1)) # atribut untuk menentukan variabel dependen / Kelas \n",
    "Y = np.array(dataset['Jual Online']) # variabel dependen / Kelas"
   ]
  },
  {
   "cell_type": "code",
   "execution_count": 3,
   "metadata": {
    "colab": {
     "base_uri": "https://localhost:8080/",
     "height": 197
    },
    "id": "s5nDdX01GXUl",
    "outputId": "aa2c5a9f-b315-43d2-8841-ad6bc1048ad9"
   },
   "outputs": [
    {
     "data": {
      "text/html": [
       "<div>\n",
       "<style scoped>\n",
       "    .dataframe tbody tr th:only-of-type {\n",
       "        vertical-align: middle;\n",
       "    }\n",
       "\n",
       "    .dataframe tbody tr th {\n",
       "        vertical-align: top;\n",
       "    }\n",
       "\n",
       "    .dataframe thead th {\n",
       "        text-align: right;\n",
       "    }\n",
       "</style>\n",
       "<table border=\"1\" class=\"dataframe\">\n",
       "  <thead>\n",
       "    <tr style=\"text-align: right;\">\n",
       "      <th></th>\n",
       "      <th>Wilayah</th>\n",
       "      <th>Umur</th>\n",
       "      <th>Pemasukan</th>\n",
       "      <th>Jual Online</th>\n",
       "    </tr>\n",
       "  </thead>\n",
       "  <tbody>\n",
       "    <tr>\n",
       "      <th>0</th>\n",
       "      <td>Riau</td>\n",
       "      <td>49.0</td>\n",
       "      <td>86400.0</td>\n",
       "      <td>No</td>\n",
       "    </tr>\n",
       "    <tr>\n",
       "      <th>1</th>\n",
       "      <td>Aceh</td>\n",
       "      <td>NaN</td>\n",
       "      <td>NaN</td>\n",
       "      <td>Yes</td>\n",
       "    </tr>\n",
       "    <tr>\n",
       "      <th>2</th>\n",
       "      <td>Jakarta</td>\n",
       "      <td>35.0</td>\n",
       "      <td>64800.0</td>\n",
       "      <td>No</td>\n",
       "    </tr>\n",
       "    <tr>\n",
       "      <th>3</th>\n",
       "      <td>Aceh</td>\n",
       "      <td>43.0</td>\n",
       "      <td>73200.0</td>\n",
       "      <td>No</td>\n",
       "    </tr>\n",
       "    <tr>\n",
       "      <th>4</th>\n",
       "      <td>Jakarta</td>\n",
       "      <td>45.0</td>\n",
       "      <td>NaN</td>\n",
       "      <td>Yes</td>\n",
       "    </tr>\n",
       "  </tbody>\n",
       "</table>\n",
       "</div>"
      ],
      "text/plain": [
       "   Wilayah  Umur  Pemasukan Jual Online\n",
       "0     Riau  49.0    86400.0          No\n",
       "1     Aceh   NaN        NaN         Yes\n",
       "2  Jakarta  35.0    64800.0          No\n",
       "3     Aceh  43.0    73200.0          No\n",
       "4  Jakarta  45.0        NaN         Yes"
      ]
     },
     "execution_count": 3,
     "metadata": {},
     "output_type": "execute_result"
    }
   ],
   "source": [
    "dataset.head()"
   ]
  },
  {
   "cell_type": "code",
   "execution_count": 4,
   "metadata": {
    "colab": {
     "base_uri": "https://localhost:8080/"
    },
    "id": "QuH4q0lCGXUo",
    "outputId": "825e4faf-cee5-458e-9577-418813307f62"
   },
   "outputs": [
    {
     "data": {
      "text/plain": [
       "array([['Riau', 49.0, 86400.0],\n",
       "       ['Aceh', nan, nan],\n",
       "       ['Jakarta', 35.0, 64800.0],\n",
       "       ['Aceh', 43.0, 73200.0],\n",
       "       ['Jakarta', 45.0, nan],\n",
       "       ['Riau', 40.0, 69600.0],\n",
       "       ['Aceh', nan, 62400.0],\n",
       "       ['Riau', 53.0, 94800.0],\n",
       "       ['Jakarta', 55.0, 99600.0],\n",
       "       ['Riau', 42.0, 80400.0],\n",
       "       ['Riau', 56.0, 94800.0],\n",
       "       ['Jakarta', 54.0, 70600.0],\n",
       "       ['Riau', 49.0, 60400.0]], dtype=object)"
      ]
     },
     "execution_count": 4,
     "metadata": {},
     "output_type": "execute_result"
    }
   ],
   "source": [
    "X = np.array(X)\n",
    "X"
   ]
  },
  {
   "cell_type": "code",
   "execution_count": 5,
   "metadata": {
    "colab": {
     "base_uri": "https://localhost:8080/"
    },
    "id": "yUK67G44GXUp",
    "outputId": "e100e12c-0396-44a2-96fb-202ae098f62f",
    "scrolled": true
   },
   "outputs": [
    {
     "data": {
      "text/plain": [
       "array(['No', 'Yes', 'No', 'No', 'Yes', 'Yes', 'No', 'Yes', 'No', 'Yes',\n",
       "       'Yes', 'No', 'Yes'], dtype=object)"
      ]
     },
     "execution_count": 5,
     "metadata": {},
     "output_type": "execute_result"
    }
   ],
   "source": [
    "Y = np.array(Y)\n",
    "Y"
   ]
  },
  {
   "cell_type": "code",
   "execution_count": 6,
   "metadata": {
    "scrolled": true
   },
   "outputs": [
    {
     "data": {
      "text/plain": [
       "Wilayah        0\n",
       "Umur           2\n",
       "Pemasukan      2\n",
       "Jual Online    0\n",
       "dtype: int64"
      ]
     },
     "execution_count": 6,
     "metadata": {},
     "output_type": "execute_result"
    }
   ],
   "source": [
    "dataset.isnull().sum()"
   ]
  },
  {
   "cell_type": "code",
   "execution_count": 7,
   "metadata": {
    "id": "BaxEmc9TGXUp"
   },
   "outputs": [],
   "source": [
    "# Penanganan Data yang Hilang\n",
    "# menangani data yang hilang dan mengganti nilai yang hilang dengan nan dari numpy dan mengganti dengan median dari semua nilai lainnya \n",
    "from sklearn.impute import SimpleImputer # digunakan untuk menangani data yang hilang\n",
    "imputer = SimpleImputer(missing_values = np.nan, strategy = 'mean')\n",
    "imputer = imputer.fit (X[:, 1: ])\n",
    "X[:, 1:] = imputer.transform (X[:, 1:])"
   ]
  },
  {
   "cell_type": "code",
   "execution_count": 8,
   "metadata": {
    "colab": {
     "base_uri": "https://localhost:8080/"
    },
    "id": "VhXKk7JwGXUq",
    "outputId": "22954869-47e7-4dc1-e965-1e2a31705c33"
   },
   "outputs": [
    {
     "data": {
      "text/plain": [
       "array([['Riau', 49.0, 86400.0],\n",
       "       ['Aceh', 47.36363636363637, 77909.09090909091],\n",
       "       ['Jakarta', 35.0, 64800.0],\n",
       "       ['Aceh', 43.0, 73200.0],\n",
       "       ['Jakarta', 45.0, 77909.09090909091],\n",
       "       ['Riau', 40.0, 69600.0],\n",
       "       ['Aceh', 47.36363636363637, 62400.0],\n",
       "       ['Riau', 53.0, 94800.0],\n",
       "       ['Jakarta', 55.0, 99600.0],\n",
       "       ['Riau', 42.0, 80400.0],\n",
       "       ['Riau', 56.0, 94800.0],\n",
       "       ['Jakarta', 54.0, 70600.0],\n",
       "       ['Riau', 49.0, 60400.0]], dtype=object)"
      ]
     },
     "execution_count": 8,
     "metadata": {},
     "output_type": "execute_result"
    }
   ],
   "source": [
    "X = np.array(X)\n",
    "X"
   ]
  },
  {
   "cell_type": "code",
   "execution_count": 9,
   "metadata": {
    "id": "73c8BBP1GXUr"
   },
   "outputs": [],
   "source": [
    "# encode categorical data\n",
    "labelencoder_X = LabelEncoder()\n",
    "X[:, 0] = labelencoder_X.fit_transform(X[:, 0])"
   ]
  },
  {
   "cell_type": "code",
   "execution_count": 10,
   "metadata": {
    "colab": {
     "base_uri": "https://localhost:8080/"
    },
    "id": "SzSzofHHGXUs",
    "outputId": "51fbbb91-4c61-4461-a48c-a7cfcdf9f5fd"
   },
   "outputs": [
    {
     "data": {
      "text/plain": [
       "array([[2, 49.0, 86400.0],\n",
       "       [0, 47.36363636363637, 77909.09090909091],\n",
       "       [1, 35.0, 64800.0],\n",
       "       [0, 43.0, 73200.0],\n",
       "       [1, 45.0, 77909.09090909091],\n",
       "       [2, 40.0, 69600.0],\n",
       "       [0, 47.36363636363637, 62400.0],\n",
       "       [2, 53.0, 94800.0],\n",
       "       [1, 55.0, 99600.0],\n",
       "       [2, 42.0, 80400.0],\n",
       "       [2, 56.0, 94800.0],\n",
       "       [1, 54.0, 70600.0],\n",
       "       [2, 49.0, 60400.0]], dtype=object)"
      ]
     },
     "execution_count": 10,
     "metadata": {},
     "output_type": "execute_result"
    }
   ],
   "source": [
    "X = np.array(X)\n",
    "X"
   ]
  },
  {
   "cell_type": "code",
   "execution_count": 11,
   "metadata": {
    "id": "H0two9y9GXUs"
   },
   "outputs": [],
   "source": [
    "onehotencoder = OneHotEncoder()\n",
    "X_category = onehotencoder.fit_transform(X[:, 0:1]).toarray()\n",
    "labelencoder_Y = LabelEncoder()\n",
    "Y = labelencoder_Y.fit_transform(Y)"
   ]
  },
  {
   "cell_type": "code",
   "execution_count": 12,
   "metadata": {
    "colab": {
     "base_uri": "https://localhost:8080/"
    },
    "id": "Qb_eZQrwGXUt",
    "outputId": "8f7265cf-99f9-43cf-cbec-d607ead5866d"
   },
   "outputs": [
    {
     "data": {
      "text/plain": [
       "array([[0., 0., 1.],\n",
       "       [1., 0., 0.],\n",
       "       [0., 1., 0.],\n",
       "       [1., 0., 0.],\n",
       "       [0., 1., 0.],\n",
       "       [0., 0., 1.],\n",
       "       [1., 0., 0.],\n",
       "       [0., 0., 1.],\n",
       "       [0., 1., 0.],\n",
       "       [0., 0., 1.],\n",
       "       [0., 0., 1.],\n",
       "       [0., 1., 0.],\n",
       "       [0., 0., 1.]])"
      ]
     },
     "execution_count": 12,
     "metadata": {},
     "output_type": "execute_result"
    }
   ],
   "source": [
    "X_category"
   ]
  },
  {
   "cell_type": "code",
   "execution_count": 13,
   "metadata": {
    "colab": {
     "base_uri": "https://localhost:8080/"
    },
    "id": "G2KM7aQ2GXUu",
    "outputId": "6098fb67-b537-48b2-ef44-c2d82a10c51c"
   },
   "outputs": [
    {
     "data": {
      "text/plain": [
       "array([0, 1, 0, 0, 1, 1, 0, 1, 0, 1, 1, 0, 1])"
      ]
     },
     "execution_count": 13,
     "metadata": {},
     "output_type": "execute_result"
    }
   ],
   "source": [
    "Y = np.array(Y)\n",
    "Y"
   ]
  },
  {
   "cell_type": "code",
   "execution_count": 14,
   "metadata": {
    "colab": {
     "base_uri": "https://localhost:8080/"
    },
    "id": "pgVqQmTdGXUu",
    "outputId": "9e05bc81-4313-4b0d-e8eb-43403ff25dbb"
   },
   "outputs": [
    {
     "data": {
      "text/plain": [
       "array([[0.0, 0.0, 1.0, 49.0, 86400.0],\n",
       "       [1.0, 0.0, 0.0, 47.36363636363637, 77909.09090909091],\n",
       "       [0.0, 1.0, 0.0, 35.0, 64800.0],\n",
       "       [1.0, 0.0, 0.0, 43.0, 73200.0],\n",
       "       [0.0, 1.0, 0.0, 45.0, 77909.09090909091],\n",
       "       [0.0, 0.0, 1.0, 40.0, 69600.0],\n",
       "       [1.0, 0.0, 0.0, 47.36363636363637, 62400.0],\n",
       "       [0.0, 0.0, 1.0, 53.0, 94800.0],\n",
       "       [0.0, 1.0, 0.0, 55.0, 99600.0],\n",
       "       [0.0, 0.0, 1.0, 42.0, 80400.0],\n",
       "       [0.0, 0.0, 1.0, 56.0, 94800.0],\n",
       "       [0.0, 1.0, 0.0, 54.0, 70600.0],\n",
       "       [0.0, 0.0, 1.0, 49.0, 60400.0]], dtype=object)"
      ]
     },
     "execution_count": 14,
     "metadata": {},
     "output_type": "execute_result"
    }
   ],
   "source": [
    "X = np.concatenate((X_category, X[:,1:]), axis=1)\n",
    "X"
   ]
  },
  {
   "cell_type": "code",
   "execution_count": 15,
   "metadata": {
    "colab": {
     "base_uri": "https://localhost:8080/"
    },
    "id": "TPUjs7uZGXUv",
    "outputId": "e3561b10-a607-428c-8579-cd603acdc886"
   },
   "outputs": [
    {
     "name": "stdout",
     "output_type": "stream",
     "text": [
      "X_train = [[0.0 1.0 0.0 35.0 64800.0]\n",
      " [0.0 1.0 0.0 55.0 99600.0]\n",
      " [1.0 0.0 0.0 47.36363636363637 77909.09090909091]\n",
      " [0.0 0.0 1.0 53.0 94800.0]\n",
      " [0.0 0.0 1.0 42.0 80400.0]\n",
      " [1.0 0.0 0.0 43.0 73200.0]\n",
      " [0.0 0.0 1.0 49.0 86400.0]\n",
      " [0.0 0.0 1.0 40.0 69600.0]\n",
      " [0.0 0.0 1.0 49.0 60400.0]]\n",
      "Y_train = [[1.0 0.0 0.0 47.36363636363637 62400.0]\n",
      " [0.0 1.0 0.0 54.0 70600.0]\n",
      " [0.0 1.0 0.0 45.0 77909.09090909091]\n",
      " [0.0 0.0 1.0 56.0 94800.0]]\n"
     ]
    }
   ],
   "source": [
    "from sklearn.model_selection import train_test_split # digunakan untuk memisahkan data pelatihan dan pengujian\n",
    "# Memisahkan kumpulan data menjadi kumpulan data pelatihan dan pengujian\n",
    "# splitting the dataset into training set and test set\n",
    "X_train, X_test, Y_train, Y_test = train_test_split(X, Y, test_size=0.3, random_state=0)\n",
    "print('X_train =', X_train)\n",
    "print('Y_train =', X_test)"
   ]
  },
  {
   "cell_type": "code",
   "execution_count": 16,
   "metadata": {
    "id": "rw3_q-LEGXUw"
   },
   "outputs": [],
   "source": [
    "from sklearn.preprocessing import StandardScaler # digunakan untuk penskalaan fitur.\n",
    "# Penskalaan Fitur\n",
    "sc_X = StandardScaler()\n",
    "X_train = sc_X.fit_transform(X_train)\n",
    "X_test = sc_X.transform(X_test)"
   ]
  },
  {
   "cell_type": "code",
   "execution_count": 17,
   "metadata": {
    "colab": {
     "base_uri": "https://localhost:8080/"
    },
    "id": "SvH2su0aGXUx",
    "outputId": "b5cc0e6d-c58e-4631-d65a-93ca13ae2b9e"
   },
   "outputs": [
    {
     "name": "stdout",
     "output_type": "stream",
     "text": [
      "X_train = [[-0.53452248  1.87082869 -1.11803399 -1.79997153 -1.10393775]\n",
      " [-0.53452248  1.87082869 -1.11803399  1.49387655  1.68644108]\n",
      " [ 1.87082869 -0.53452248 -1.11803399  0.23622547 -0.05280759]\n",
      " [-0.53452248 -0.53452248  0.89442719  1.16449175  1.30156124]\n",
      " [-0.53452248 -0.53452248  0.89442719 -0.6471247   0.14692172]\n",
      " [ 1.87082869 -0.53452248 -1.11803399 -0.48243229 -0.43039803]\n",
      " [-0.53452248 -0.53452248  0.89442719  0.50572213  0.62802152]\n",
      " [-0.53452248 -0.53452248  0.89442719 -0.97650951 -0.71905791]\n",
      " [-0.53452248 -0.53452248  0.89442719  0.50572213 -1.45674427]]\n",
      "X_test = [[ 1.87082869 -0.53452248 -1.11803399  0.23622547 -1.29637767]\n",
      " [-0.53452248  1.87082869 -1.11803399  1.32918415 -0.63887461]\n",
      " [-0.53452248  1.87082869 -1.11803399 -0.15304749 -0.05280759]\n",
      " [-0.53452248 -0.53452248  0.89442719  1.65856896  1.30156124]]\n"
     ]
    }
   ],
   "source": [
    "print('X_train =', X_train)\n",
    "print('X_test =', X_test)"
   ]
  },
  {
   "cell_type": "code",
   "execution_count": null,
   "metadata": {},
   "outputs": [],
   "source": []
  }
 ],
 "metadata": {
  "colab": {
   "collapsed_sections": [],
   "name": "Soal Tugas Harian 1 Week 4.ipynb",
   "provenance": []
  },
  "kernelspec": {
   "display_name": "Python 3",
   "language": "python",
   "name": "python3"
  },
  "language_info": {
   "codemirror_mode": {
    "name": "ipython",
    "version": 3
   },
   "file_extension": ".py",
   "mimetype": "text/x-python",
   "name": "python",
   "nbconvert_exporter": "python",
   "pygments_lexer": "ipython3",
   "version": "3.8.3"
  }
 },
 "nbformat": 4,
 "nbformat_minor": 1
}
