{
 "cells": [
  {
   "cell_type": "code",
   "execution_count": 14,
   "metadata": {},
   "outputs": [],
   "source": [
    "#mengimport library\n",
    "import itertools\n",
    "import numpy as np\n",
    "import matplotlib.pyplot as plt\n",
    "from matplotlib.ticker import NullFormatter\n",
    "import pandas as pd\n",
    "import numpy as np\n",
    "import matplotlib.ticker as ticker\n",
    "from sklearn import preprocessing\n",
    "from sklearn.preprocessing import LabelEncoder, OneHotEncoder\n",
    "%matplotlib inline"
   ]
  },
  {
   "cell_type": "code",
   "execution_count": 20,
   "metadata": {},
   "outputs": [
    {
     "data": {
      "text/html": [
       "<div>\n",
       "<style scoped>\n",
       "    .dataframe tbody tr th:only-of-type {\n",
       "        vertical-align: middle;\n",
       "    }\n",
       "\n",
       "    .dataframe tbody tr th {\n",
       "        vertical-align: top;\n",
       "    }\n",
       "\n",
       "    .dataframe thead th {\n",
       "        text-align: right;\n",
       "    }\n",
       "</style>\n",
       "<table border=\"1\" class=\"dataframe\">\n",
       "  <thead>\n",
       "    <tr style=\"text-align: right;\">\n",
       "      <th></th>\n",
       "      <th>pm10</th>\n",
       "      <th>so2</th>\n",
       "      <th>co</th>\n",
       "      <th>o3</th>\n",
       "      <th>no2</th>\n",
       "      <th>kategori</th>\n",
       "    </tr>\n",
       "  </thead>\n",
       "  <tbody>\n",
       "    <tr>\n",
       "      <th>0</th>\n",
       "      <td>63.0</td>\n",
       "      <td>34.0</td>\n",
       "      <td>25.0</td>\n",
       "      <td>21.0</td>\n",
       "      <td>2.0</td>\n",
       "      <td>2</td>\n",
       "    </tr>\n",
       "    <tr>\n",
       "      <th>1</th>\n",
       "      <td>16.0</td>\n",
       "      <td>32.0</td>\n",
       "      <td>16.0</td>\n",
       "      <td>19.0</td>\n",
       "      <td>1.0</td>\n",
       "      <td>3</td>\n",
       "    </tr>\n",
       "    <tr>\n",
       "      <th>2</th>\n",
       "      <td>18.0</td>\n",
       "      <td>32.0</td>\n",
       "      <td>17.0</td>\n",
       "      <td>20.0</td>\n",
       "      <td>2.0</td>\n",
       "      <td>3</td>\n",
       "    </tr>\n",
       "    <tr>\n",
       "      <th>3</th>\n",
       "      <td>24.0</td>\n",
       "      <td>32.0</td>\n",
       "      <td>22.0</td>\n",
       "      <td>20.0</td>\n",
       "      <td>2.0</td>\n",
       "      <td>3</td>\n",
       "    </tr>\n",
       "    <tr>\n",
       "      <th>4</th>\n",
       "      <td>29.0</td>\n",
       "      <td>32.0</td>\n",
       "      <td>25.0</td>\n",
       "      <td>14.0</td>\n",
       "      <td>2.0</td>\n",
       "      <td>3</td>\n",
       "    </tr>\n",
       "    <tr>\n",
       "      <th>...</th>\n",
       "      <td>...</td>\n",
       "      <td>...</td>\n",
       "      <td>...</td>\n",
       "      <td>...</td>\n",
       "      <td>...</td>\n",
       "      <td>...</td>\n",
       "    </tr>\n",
       "    <tr>\n",
       "      <th>1796</th>\n",
       "      <td>21.0</td>\n",
       "      <td>21.0</td>\n",
       "      <td>26.0</td>\n",
       "      <td>30.0</td>\n",
       "      <td>4.0</td>\n",
       "      <td>3</td>\n",
       "    </tr>\n",
       "    <tr>\n",
       "      <th>1797</th>\n",
       "      <td>29.0</td>\n",
       "      <td>23.0</td>\n",
       "      <td>26.0</td>\n",
       "      <td>46.0</td>\n",
       "      <td>5.0</td>\n",
       "      <td>3</td>\n",
       "    </tr>\n",
       "    <tr>\n",
       "      <th>1798</th>\n",
       "      <td>55.0</td>\n",
       "      <td>28.0</td>\n",
       "      <td>38.0</td>\n",
       "      <td>47.0</td>\n",
       "      <td>10.0</td>\n",
       "      <td>2</td>\n",
       "    </tr>\n",
       "    <tr>\n",
       "      <th>1799</th>\n",
       "      <td>51.0</td>\n",
       "      <td>26.0</td>\n",
       "      <td>31.0</td>\n",
       "      <td>49.0</td>\n",
       "      <td>8.0</td>\n",
       "      <td>2</td>\n",
       "    </tr>\n",
       "    <tr>\n",
       "      <th>1800</th>\n",
       "      <td>52.0</td>\n",
       "      <td>23.0</td>\n",
       "      <td>40.0</td>\n",
       "      <td>33.0</td>\n",
       "      <td>8.0</td>\n",
       "      <td>2</td>\n",
       "    </tr>\n",
       "  </tbody>\n",
       "</table>\n",
       "<p>1801 rows × 6 columns</p>\n",
       "</div>"
      ],
      "text/plain": [
       "      pm10   so2    co    o3   no2  kategori\n",
       "0     63.0  34.0  25.0  21.0   2.0         2\n",
       "1     16.0  32.0  16.0  19.0   1.0         3\n",
       "2     18.0  32.0  17.0  20.0   2.0         3\n",
       "3     24.0  32.0  22.0  20.0   2.0         3\n",
       "4     29.0  32.0  25.0  14.0   2.0         3\n",
       "...    ...   ...   ...   ...   ...       ...\n",
       "1796  21.0  21.0  26.0  30.0   4.0         3\n",
       "1797  29.0  23.0  26.0  46.0   5.0         3\n",
       "1798  55.0  28.0  38.0  47.0  10.0         2\n",
       "1799  51.0  26.0  31.0  49.0   8.0         2\n",
       "1800  52.0  23.0  40.0  33.0   8.0         2\n",
       "\n",
       "[1801 rows x 6 columns]"
      ]
     },
     "execution_count": 20,
     "metadata": {},
     "output_type": "execute_result"
    }
   ],
   "source": [
    "#mengambil data csv\n",
    "df=pd.read_csv('F:\\E-Learning\\Python\\Week4\\dataispujkt2017.csv')\n",
    "label = {'BAIK':3,\n",
    "         'SEDANG':2,\n",
    "         'TIDAK SEHAT':1\n",
    "        }\n",
    "df['kategori'].replace(label, inplace=True)\n",
    "df"
   ]
  },
  {
   "cell_type": "code",
   "execution_count": 21,
   "metadata": {},
   "outputs": [
    {
     "data": {
      "text/plain": [
       "pm10        0\n",
       "so2         0\n",
       "co          0\n",
       "o3          0\n",
       "no2         0\n",
       "kategori    0\n",
       "dtype: int64"
      ]
     },
     "execution_count": 21,
     "metadata": {},
     "output_type": "execute_result"
    }
   ],
   "source": [
    "#Mengisi data blank dengan data rata-rata\n",
    "rata_pm10 = df['pm10'].mean()\n",
    "rata_so2 = df['so2'].mean()\n",
    "rata_co = df['co'].mean()\n",
    "rata_o3 = df['o3'].mean()\n",
    "rata_no2 = df['no2'].mean()\n",
    "\n",
    "df['pm10'] = df['pm10'].fillna(rata_pm10)\n",
    "df['so2'] = df['so2'].fillna(rata_so2)\n",
    "df['co'] = df['co'].fillna(rata_co)\n",
    "df['o3'] = df['o3'].fillna(rata_o3)\n",
    "df['no2'] = df['no2'].fillna(rata_no2)\n",
    "\n",
    "df.isna().sum()"
   ]
  },
  {
   "cell_type": "code",
   "execution_count": 22,
   "metadata": {},
   "outputs": [
    {
     "data": {
      "text/plain": [
       "Index(['pm10', 'so2', 'co', 'o3', 'no2', 'kategori'], dtype='object')"
      ]
     },
     "execution_count": 22,
     "metadata": {},
     "output_type": "execute_result"
    }
   ],
   "source": [
    "# Menampilkan fitur dataset\n",
    "df.columns"
   ]
  },
  {
   "cell_type": "code",
   "execution_count": 23,
   "metadata": {},
   "outputs": [
    {
     "data": {
      "text/plain": [
       "array([[63., 34., 25., 21.,  2.],\n",
       "       [16., 32., 16., 19.,  1.],\n",
       "       [18., 32., 17., 20.,  2.],\n",
       "       [24., 32., 22., 20.,  2.],\n",
       "       [29., 32., 25., 14.,  2.]])"
      ]
     },
     "execution_count": 23,
     "metadata": {},
     "output_type": "execute_result"
    }
   ],
   "source": [
    "# Mengkonvert dataframe Pandas ke array Numpy\n",
    "X = df[['pm10', 'so2', 'co', 'o3', 'no2']] .values  #.astype(float)\n",
    "X[0:5]"
   ]
  },
  {
   "cell_type": "code",
   "execution_count": 24,
   "metadata": {},
   "outputs": [
    {
     "data": {
      "text/plain": [
       "array([2, 3, 3, 3, 3], dtype=int64)"
      ]
     },
     "execution_count": 24,
     "metadata": {},
     "output_type": "execute_result"
    }
   ],
   "source": [
    "# Menampilkan label 5 data\n",
    "y = df['kategori'].values\n",
    "y[0:5]"
   ]
  },
  {
   "cell_type": "code",
   "execution_count": 25,
   "metadata": {},
   "outputs": [
    {
     "data": {
      "text/plain": [
       "array([[ 0.80333522,  0.59688342,  0.49860827, -1.41728926, -1.33268176],\n",
       "       [-1.68348165,  0.44890755, -0.27818964, -1.48436447, -1.52666296],\n",
       "       [-1.57765966,  0.44890755, -0.19187876, -1.45082687, -1.33268176],\n",
       "       [-1.26019368,  0.44890755,  0.23967564, -1.45082687, -1.33268176],\n",
       "       [-0.99563869,  0.44890755,  0.49860827, -1.6520525 , -1.33268176]])"
      ]
     },
     "execution_count": 25,
     "metadata": {},
     "output_type": "execute_result"
    }
   ],
   "source": [
    "# Normalisasi data\n",
    "X = preprocessing.StandardScaler().fit(X).transform(X.astype(float))\n",
    "X[0:5]"
   ]
  },
  {
   "cell_type": "code",
   "execution_count": 26,
   "metadata": {},
   "outputs": [
    {
     "name": "stdout",
     "output_type": "stream",
     "text": [
      "Train set: (1440, 5) (1440,)\n",
      "Test set: (361, 5) (361,)\n"
     ]
    }
   ],
   "source": [
    "# Membagi data latih dan data uji\n",
    "from sklearn.model_selection import train_test_split\n",
    "X_train, X_test, y_train, y_test = train_test_split( X, y, test_size=0.2, random_state=4)\n",
    "print ('Train set:', X_train.shape,  y_train.shape)\n",
    "print ('Test set:', X_test.shape,  y_test.shape)"
   ]
  },
  {
   "cell_type": "code",
   "execution_count": 27,
   "metadata": {},
   "outputs": [],
   "source": [
    "# Import library KNN\n",
    "from sklearn.neighbors import KNeighborsClassifier"
   ]
  },
  {
   "cell_type": "code",
   "execution_count": 138,
   "metadata": {},
   "outputs": [
    {
     "data": {
      "text/plain": [
       "KNeighborsClassifier(n_neighbors=1)"
      ]
     },
     "execution_count": 138,
     "metadata": {},
     "output_type": "execute_result"
    }
   ],
   "source": [
    "# Training\n",
    "k = 1\n",
    "#Train Model and Predict  \n",
    "neigh = KNeighborsClassifier(n_neighbors = k).fit(X_train,y_train)\n",
    "neigh"
   ]
  },
  {
   "cell_type": "code",
   "execution_count": 130,
   "metadata": {},
   "outputs": [
    {
     "data": {
      "text/plain": [
       "array([2, 2, 2, 3, 2, 1, 2, 2, 2, 2, 2, 3, 2, 2, 3, 3, 2, 3, 2, 3, 2, 2,\n",
       "       3, 2, 2, 2, 3, 2, 1, 2, 2, 2, 2, 3, 2, 2, 3, 1, 2, 2, 2, 2, 3, 3,\n",
       "       3, 2, 2, 2, 2, 1, 2, 2, 1, 3, 2, 3, 1, 2, 2, 2, 1, 2, 2, 2, 1, 2,\n",
       "       3, 2, 3, 1, 2, 2, 3, 3, 2, 2, 1, 2, 2, 3, 2, 1, 2, 2, 2, 2, 3, 2,\n",
       "       2, 2, 2, 2, 2, 2, 2, 1, 2, 2, 3, 2, 2, 3, 2, 2, 3, 3, 2, 3, 2, 2,\n",
       "       2, 2, 3, 2, 2, 2, 2, 2, 3, 2, 2, 2, 2, 3, 2, 1, 2, 2, 2, 2, 2, 2,\n",
       "       3, 2, 2, 2, 2, 1, 2, 2, 1, 3, 2, 3, 2, 2, 2, 2, 2, 2, 2, 3, 2, 3,\n",
       "       3, 2, 2, 2, 3, 2, 3, 3, 1, 2, 2, 2, 2, 2, 1, 2, 3, 2, 2, 2, 2, 2,\n",
       "       3, 3, 2, 2, 2, 2, 2, 2, 2, 3, 1, 1, 2, 2, 3, 2, 3, 2, 2, 2, 2, 2,\n",
       "       3, 2, 2, 2, 2, 3, 2, 3, 3, 3, 2, 2, 2, 2, 3, 3, 1, 1, 2, 2, 2, 2,\n",
       "       2, 2, 2, 2, 3, 2, 1, 2, 3, 2, 2, 2, 2, 3, 2, 2, 2, 2, 2, 2, 2, 3,\n",
       "       2, 2, 2, 2, 2, 2, 3, 2, 2, 2, 3, 2, 2, 2, 2, 2, 3, 2, 2, 2, 2, 1,\n",
       "       2, 2, 3, 2, 2, 2, 2, 3, 1, 3, 3, 2, 2, 1, 2, 3, 2, 2, 2, 2, 2, 3,\n",
       "       2, 2, 2, 1, 2, 2, 3, 3, 2, 2, 3, 2, 2, 2, 2, 2, 2, 3, 2, 2, 3, 1,\n",
       "       2, 3, 1, 3, 2, 2, 2, 2, 3, 2, 2, 2, 2, 3, 2, 2, 2, 2, 3, 1, 2, 3,\n",
       "       3, 3, 3, 2, 1, 2, 2, 1, 2, 3, 2, 2, 3, 3, 2, 3, 2, 3, 3, 2, 2, 1,\n",
       "       2, 2, 3, 2, 3, 2, 2, 3, 2], dtype=int64)"
      ]
     },
     "execution_count": 130,
     "metadata": {},
     "output_type": "execute_result"
    }
   ],
   "source": [
    "# Predicting\n",
    "yhat = neigh.predict(X_test)\n",
    "yhat[0:361]"
   ]
  },
  {
   "cell_type": "code",
   "execution_count": 131,
   "metadata": {},
   "outputs": [
    {
     "data": {
      "text/plain": [
       "array([2, 2, 2, 3, 2, 1, 2, 2, 1, 2, 1, 3, 2, 2, 2, 3, 2, 3, 2, 3, 2, 2,\n",
       "       3, 2, 2, 1, 2, 2, 1, 2, 2, 2, 2, 3, 2, 2, 3, 1, 2, 2, 1, 2, 3, 3,\n",
       "       3, 2, 2, 2, 2, 1, 2, 2, 1, 3, 2, 3, 1, 2, 3, 2, 1, 2, 2, 2, 1, 2,\n",
       "       3, 2, 3, 1, 2, 3, 3, 2, 2, 2, 1, 2, 2, 3, 2, 1, 2, 2, 1, 2, 3, 2,\n",
       "       2, 2, 2, 2, 2, 2, 2, 2, 3, 2, 3, 2, 2, 2, 2, 3, 3, 3, 2, 3, 1, 3,\n",
       "       2, 2, 3, 1, 2, 2, 2, 2, 3, 2, 3, 2, 2, 3, 2, 1, 1, 2, 2, 2, 2, 2,\n",
       "       3, 2, 2, 2, 2, 1, 2, 2, 1, 2, 2, 3, 2, 2, 2, 2, 2, 2, 2, 3, 2, 2,\n",
       "       3, 2, 1, 2, 3, 2, 3, 3, 2, 2, 2, 2, 2, 2, 1, 3, 3, 2, 2, 2, 2, 2,\n",
       "       3, 3, 3, 3, 2, 2, 2, 2, 2, 3, 1, 1, 2, 2, 3, 2, 3, 2, 2, 2, 2, 2,\n",
       "       3, 2, 2, 2, 2, 3, 2, 3, 3, 2, 2, 2, 2, 2, 3, 3, 1, 1, 2, 2, 2, 2,\n",
       "       2, 2, 2, 2, 3, 2, 1, 2, 3, 2, 2, 2, 2, 3, 2, 2, 2, 2, 2, 2, 2, 3,\n",
       "       2, 2, 2, 2, 2, 2, 3, 2, 2, 2, 3, 2, 2, 2, 2, 2, 3, 2, 2, 1, 2, 1,\n",
       "       2, 2, 3, 2, 2, 2, 3, 3, 1, 3, 3, 2, 2, 1, 2, 3, 2, 2, 2, 2, 3, 3,\n",
       "       3, 2, 1, 1, 2, 2, 3, 2, 2, 2, 3, 1, 2, 2, 2, 2, 2, 3, 2, 2, 3, 1,\n",
       "       2, 2, 1, 3, 2, 2, 2, 2, 3, 2, 2, 2, 2, 3, 2, 2, 2, 3, 3, 1, 2, 3,\n",
       "       3, 3, 3, 2, 1, 2, 2, 1, 2, 3, 2, 1, 3, 3, 2, 3, 2, 3, 3, 2, 2, 1,\n",
       "       2, 2, 3, 2, 3, 2, 2, 2, 2], dtype=int64)"
      ]
     },
     "execution_count": 131,
     "metadata": {},
     "output_type": "execute_result"
    }
   ],
   "source": [
    "y_test"
   ]
  },
  {
   "cell_type": "code",
   "execution_count": 132,
   "metadata": {},
   "outputs": [
    {
     "data": {
      "text/plain": [
       "0.8947368421052632"
      ]
     },
     "execution_count": 132,
     "metadata": {},
     "output_type": "execute_result"
    }
   ],
   "source": [
    "d_y_test=pd.DataFrame(y_test,columns=['y_test'])\n",
    "d_yhat=pd.DataFrame(yhat,columns=['yhat'])\n",
    "d_all=pd.merge(d_y_test,d_yhat,left_index=True,right_index=True)\n",
    "d_all['dev']=yhat-y_test\n",
    "\n",
    "jml_benar=(d_all.loc[lambda x:x['dev'] == 0,:])\n",
    "akurasi=jml_benar.shape[0]/y_test.shape[0]\n",
    "\n",
    "akurasi"
   ]
  },
  {
   "cell_type": "code",
   "execution_count": 162,
   "metadata": {},
   "outputs": [
    {
     "data": {
      "text/html": [
       "<div>\n",
       "<style scoped>\n",
       "    .dataframe tbody tr th:only-of-type {\n",
       "        vertical-align: middle;\n",
       "    }\n",
       "\n",
       "    .dataframe tbody tr th {\n",
       "        vertical-align: top;\n",
       "    }\n",
       "\n",
       "    .dataframe thead th {\n",
       "        text-align: right;\n",
       "    }\n",
       "</style>\n",
       "<table border=\"1\" class=\"dataframe\">\n",
       "  <thead>\n",
       "    <tr style=\"text-align: right;\">\n",
       "      <th></th>\n",
       "      <th>k</th>\n",
       "      <th>akurasi</th>\n",
       "    </tr>\n",
       "  </thead>\n",
       "  <tbody>\n",
       "    <tr>\n",
       "      <th>1</th>\n",
       "      <td>1.0</td>\n",
       "      <td>0.894737</td>\n",
       "    </tr>\n",
       "  </tbody>\n",
       "</table>\n",
       "</div>"
      ],
      "text/plain": [
       "     k   akurasi\n",
       "1  1.0  0.894737"
      ]
     },
     "execution_count": 162,
     "metadata": {},
     "output_type": "execute_result"
    }
   ],
   "source": [
    "# menentukan K\n",
    "k = X_train.shape[0]\n",
    "s=np.array([0,0])\n",
    "for i in range(k):\n",
    "    k1=i+1\n",
    "    neigh = KNeighborsClassifier(n_neighbors = k1).fit(X_train,y_train)\n",
    "\n",
    "    # Predicting\n",
    "    yhat = neigh.predict(X_test)\n",
    "\n",
    "    d_y_test=pd.DataFrame(y_test,columns=['y_test'])\n",
    "    d_yhat=pd.DataFrame(yhat,columns=['yhat'])\n",
    "    d_all=pd.merge(d_y_test,d_yhat,left_index=True,right_index=True)\n",
    "    d_all['dev']=yhat-y_test\n",
    "\n",
    "    jml_benar=(d_all.loc[lambda x:x['dev'] == 0,:])\n",
    "    akurasi=jml_benar.shape[0]/y_test.shape[0]\n",
    "    a=np.array([k1,akurasi])\n",
    "    s=np.vstack([s, a])\n",
    "    #print('Nilai K:', k1, '==>> Akurasi:',akurasi)\n",
    "dta=pd.DataFrame(s,columns=['k','akurasi'])\n",
    "dta.loc[lambda x:x['akurasi'] == dta['akurasi'].max(),:]\n"
   ]
  }
 ],
 "metadata": {
  "kernelspec": {
   "display_name": "Python 3",
   "language": "python",
   "name": "python3"
  },
  "language_info": {
   "codemirror_mode": {
    "name": "ipython",
    "version": 3
   },
   "file_extension": ".py",
   "mimetype": "text/x-python",
   "name": "python",
   "nbconvert_exporter": "python",
   "pygments_lexer": "ipython3",
   "version": "3.8.3"
  }
 },
 "nbformat": 4,
 "nbformat_minor": 4
}
