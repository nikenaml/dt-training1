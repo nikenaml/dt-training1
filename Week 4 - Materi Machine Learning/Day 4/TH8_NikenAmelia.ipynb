{
 "cells": [
  {
   "cell_type": "code",
   "execution_count": 100,
   "metadata": {},
   "outputs": [],
   "source": [
    "# Import Library \n",
    "import numpy as np # digunakan untuk menangani angka \n",
    "import pandas as pd # digunakan untuk menangani dataset\n",
    "from sklearn.impute import SimpleImputer # digunakan untuk menangani data yang hilang\n",
    "from sklearn.preprocessing import LabelEncoder, OneHotEncoder # digunakan untuk encoding data kategorikal\n",
    "from sklearn.preprocessing import StandardScaler # digunakan untuk penskalaan fitur."
   ]
  },
  {
   "cell_type": "code",
   "execution_count": 101,
   "metadata": {},
   "outputs": [],
   "source": [
    "dataset = pd.read_csv('data20172018.csv') # untuk mengimpor dataset ke dalam variabel\n",
    "\n",
    "# Untuk merubah isi kolom kategori menjadi numerik agar bisa diolah\n",
    "# label = {'BAIK':4,'SEDANG':3,\n",
    "#          'TIDAK SEHAT':2,'SANGAT TIDAK SEHAT':1\n",
    "#         }\n",
    "# dataset['kategori'].replace(label, inplace=True)\n",
    "# dataset"
   ]
  },
  {
   "cell_type": "code",
   "execution_count": 102,
   "metadata": {},
   "outputs": [
    {
     "data": {
      "text/html": [
       "<div>\n",
       "<style scoped>\n",
       "    .dataframe tbody tr th:only-of-type {\n",
       "        vertical-align: middle;\n",
       "    }\n",
       "\n",
       "    .dataframe tbody tr th {\n",
       "        vertical-align: top;\n",
       "    }\n",
       "\n",
       "    .dataframe thead th {\n",
       "        text-align: right;\n",
       "    }\n",
       "</style>\n",
       "<table border=\"1\" class=\"dataframe\">\n",
       "  <thead>\n",
       "    <tr style=\"text-align: right;\">\n",
       "      <th></th>\n",
       "      <th>pm10</th>\n",
       "      <th>so2</th>\n",
       "      <th>co</th>\n",
       "      <th>o3</th>\n",
       "      <th>no2</th>\n",
       "      <th>kategori</th>\n",
       "    </tr>\n",
       "  </thead>\n",
       "  <tbody>\n",
       "    <tr>\n",
       "      <th>0</th>\n",
       "      <td>63.0</td>\n",
       "      <td>34.0</td>\n",
       "      <td>25.0</td>\n",
       "      <td>21.0</td>\n",
       "      <td>2.0</td>\n",
       "      <td>SEDANG</td>\n",
       "    </tr>\n",
       "    <tr>\n",
       "      <th>1</th>\n",
       "      <td>16.0</td>\n",
       "      <td>32.0</td>\n",
       "      <td>16.0</td>\n",
       "      <td>19.0</td>\n",
       "      <td>1.0</td>\n",
       "      <td>BAIK</td>\n",
       "    </tr>\n",
       "    <tr>\n",
       "      <th>2</th>\n",
       "      <td>18.0</td>\n",
       "      <td>32.0</td>\n",
       "      <td>17.0</td>\n",
       "      <td>20.0</td>\n",
       "      <td>2.0</td>\n",
       "      <td>BAIK</td>\n",
       "    </tr>\n",
       "    <tr>\n",
       "      <th>3</th>\n",
       "      <td>24.0</td>\n",
       "      <td>32.0</td>\n",
       "      <td>22.0</td>\n",
       "      <td>20.0</td>\n",
       "      <td>2.0</td>\n",
       "      <td>BAIK</td>\n",
       "    </tr>\n",
       "    <tr>\n",
       "      <th>4</th>\n",
       "      <td>29.0</td>\n",
       "      <td>32.0</td>\n",
       "      <td>25.0</td>\n",
       "      <td>14.0</td>\n",
       "      <td>2.0</td>\n",
       "      <td>BAIK</td>\n",
       "    </tr>\n",
       "  </tbody>\n",
       "</table>\n",
       "</div>"
      ],
      "text/plain": [
       "   pm10   so2    co    o3  no2 kategori\n",
       "0  63.0  34.0  25.0  21.0  2.0   SEDANG\n",
       "1  16.0  32.0  16.0  19.0  1.0     BAIK\n",
       "2  18.0  32.0  17.0  20.0  2.0     BAIK\n",
       "3  24.0  32.0  22.0  20.0  2.0     BAIK\n",
       "4  29.0  32.0  25.0  14.0  2.0     BAIK"
      ]
     },
     "execution_count": 102,
     "metadata": {},
     "output_type": "execute_result"
    }
   ],
   "source": [
    "dataset.head()"
   ]
  },
  {
   "cell_type": "code",
   "execution_count": 104,
   "metadata": {},
   "outputs": [],
   "source": [
    "# encode categorical data\n",
    "labelencoder_X = LabelEncoder()\n",
    "dataset.iloc[:, 5] = labelencoder_X.fit_transform(dataset.iloc[:, 5])"
   ]
  },
  {
   "cell_type": "code",
   "execution_count": 105,
   "metadata": {
    "scrolled": true
   },
   "outputs": [
    {
     "data": {
      "text/html": [
       "<div>\n",
       "<style scoped>\n",
       "    .dataframe tbody tr th:only-of-type {\n",
       "        vertical-align: middle;\n",
       "    }\n",
       "\n",
       "    .dataframe tbody tr th {\n",
       "        vertical-align: top;\n",
       "    }\n",
       "\n",
       "    .dataframe thead th {\n",
       "        text-align: right;\n",
       "    }\n",
       "</style>\n",
       "<table border=\"1\" class=\"dataframe\">\n",
       "  <thead>\n",
       "    <tr style=\"text-align: right;\">\n",
       "      <th></th>\n",
       "      <th>pm10</th>\n",
       "      <th>so2</th>\n",
       "      <th>co</th>\n",
       "      <th>o3</th>\n",
       "      <th>no2</th>\n",
       "      <th>kategori</th>\n",
       "    </tr>\n",
       "  </thead>\n",
       "  <tbody>\n",
       "    <tr>\n",
       "      <th>0</th>\n",
       "      <td>63.0</td>\n",
       "      <td>34.0</td>\n",
       "      <td>25.0</td>\n",
       "      <td>21.0</td>\n",
       "      <td>2.0</td>\n",
       "      <td>2</td>\n",
       "    </tr>\n",
       "    <tr>\n",
       "      <th>1</th>\n",
       "      <td>16.0</td>\n",
       "      <td>32.0</td>\n",
       "      <td>16.0</td>\n",
       "      <td>19.0</td>\n",
       "      <td>1.0</td>\n",
       "      <td>0</td>\n",
       "    </tr>\n",
       "    <tr>\n",
       "      <th>2</th>\n",
       "      <td>18.0</td>\n",
       "      <td>32.0</td>\n",
       "      <td>17.0</td>\n",
       "      <td>20.0</td>\n",
       "      <td>2.0</td>\n",
       "      <td>0</td>\n",
       "    </tr>\n",
       "    <tr>\n",
       "      <th>3</th>\n",
       "      <td>24.0</td>\n",
       "      <td>32.0</td>\n",
       "      <td>22.0</td>\n",
       "      <td>20.0</td>\n",
       "      <td>2.0</td>\n",
       "      <td>0</td>\n",
       "    </tr>\n",
       "    <tr>\n",
       "      <th>4</th>\n",
       "      <td>29.0</td>\n",
       "      <td>32.0</td>\n",
       "      <td>25.0</td>\n",
       "      <td>14.0</td>\n",
       "      <td>2.0</td>\n",
       "      <td>0</td>\n",
       "    </tr>\n",
       "    <tr>\n",
       "      <th>...</th>\n",
       "      <td>...</td>\n",
       "      <td>...</td>\n",
       "      <td>...</td>\n",
       "      <td>...</td>\n",
       "      <td>...</td>\n",
       "      <td>...</td>\n",
       "    </tr>\n",
       "    <tr>\n",
       "      <th>3584</th>\n",
       "      <td>6.0</td>\n",
       "      <td>2.0</td>\n",
       "      <td>8.0</td>\n",
       "      <td>48.0</td>\n",
       "      <td>NaN</td>\n",
       "      <td>0</td>\n",
       "    </tr>\n",
       "    <tr>\n",
       "      <th>3585</th>\n",
       "      <td>NaN</td>\n",
       "      <td>1.0</td>\n",
       "      <td>7.0</td>\n",
       "      <td>40.0</td>\n",
       "      <td>NaN</td>\n",
       "      <td>0</td>\n",
       "    </tr>\n",
       "    <tr>\n",
       "      <th>3586</th>\n",
       "      <td>NaN</td>\n",
       "      <td>NaN</td>\n",
       "      <td>6.0</td>\n",
       "      <td>49.0</td>\n",
       "      <td>NaN</td>\n",
       "      <td>0</td>\n",
       "    </tr>\n",
       "    <tr>\n",
       "      <th>3587</th>\n",
       "      <td>NaN</td>\n",
       "      <td>NaN</td>\n",
       "      <td>6.0</td>\n",
       "      <td>51.0</td>\n",
       "      <td>NaN</td>\n",
       "      <td>2</td>\n",
       "    </tr>\n",
       "    <tr>\n",
       "      <th>3588</th>\n",
       "      <td>NaN</td>\n",
       "      <td>11.0</td>\n",
       "      <td>6.0</td>\n",
       "      <td>34.0</td>\n",
       "      <td>2.0</td>\n",
       "      <td>0</td>\n",
       "    </tr>\n",
       "  </tbody>\n",
       "</table>\n",
       "<p>3589 rows × 6 columns</p>\n",
       "</div>"
      ],
      "text/plain": [
       "      pm10   so2    co    o3  no2  kategori\n",
       "0     63.0  34.0  25.0  21.0  2.0         2\n",
       "1     16.0  32.0  16.0  19.0  1.0         0\n",
       "2     18.0  32.0  17.0  20.0  2.0         0\n",
       "3     24.0  32.0  22.0  20.0  2.0         0\n",
       "4     29.0  32.0  25.0  14.0  2.0         0\n",
       "...    ...   ...   ...   ...  ...       ...\n",
       "3584   6.0   2.0   8.0  48.0  NaN         0\n",
       "3585   NaN   1.0   7.0  40.0  NaN         0\n",
       "3586   NaN   NaN   6.0  49.0  NaN         0\n",
       "3587   NaN   NaN   6.0  51.0  NaN         2\n",
       "3588   NaN  11.0   6.0  34.0  2.0         0\n",
       "\n",
       "[3589 rows x 6 columns]"
      ]
     },
     "execution_count": 105,
     "metadata": {},
     "output_type": "execute_result"
    }
   ],
   "source": [
    "dataset"
   ]
  },
  {
   "cell_type": "code",
   "execution_count": 106,
   "metadata": {},
   "outputs": [
    {
     "data": {
      "text/plain": [
       "pm10        0\n",
       "so2         0\n",
       "co          0\n",
       "o3          0\n",
       "no2         0\n",
       "kategori    0\n",
       "dtype: int64"
      ]
     },
     "execution_count": 106,
     "metadata": {},
     "output_type": "execute_result"
    }
   ],
   "source": [
    "#Mengisi data blank dengan data rata-rata\n",
    "rata_pm10 = dataset['pm10'].mean()\n",
    "rata_so2 = dataset['so2'].mean()\n",
    "rata_co = dataset['co'].mean()\n",
    "rata_o3 = dataset['o3'].mean()\n",
    "rata_no2 = dataset['no2'].mean()\n",
    "\n",
    "dataset['pm10'] = dataset['pm10'].fillna(rata_pm10)\n",
    "dataset['so2'] = dataset['so2'].fillna(rata_so2)\n",
    "dataset['co'] = dataset['co'].fillna(rata_co)\n",
    "dataset['o3'] = dataset['o3'].fillna(rata_o3)\n",
    "dataset['no2'] = dataset['no2'].fillna(rata_no2)\n",
    "\n",
    "dataset.isna().sum()"
   ]
  },
  {
   "cell_type": "code",
   "execution_count": 103,
   "metadata": {
    "scrolled": true
   },
   "outputs": [
    {
     "data": {
      "text/plain": [
       "SEDANG                2132\n",
       "BAIK                   850\n",
       "TIDAK SEHAT            577\n",
       "SANGAT TIDAK SEHAT      30\n",
       "Name: kategori, dtype: int64"
      ]
     },
     "execution_count": 103,
     "metadata": {},
     "output_type": "execute_result"
    }
   ],
   "source": [
    "dataset['kategori'].value_counts()"
   ]
  },
  {
   "cell_type": "code",
   "execution_count": 107,
   "metadata": {},
   "outputs": [
    {
     "data": {
      "text/plain": [
       "<matplotlib.axes._subplots.AxesSubplot at 0x1def914e370>"
      ]
     },
     "execution_count": 107,
     "metadata": {},
     "output_type": "execute_result"
    },
    {
     "data": {
      "image/png": "[encoded data removed]",
      "text/plain": [
       "<Figure size 432x288 with 1 Axes>"
      ]
     },
     "metadata": {},
     "output_type": "display_data"
    }
   ],
   "source": [
    "# Visualisasi Data\n",
    "import matplotlib.pyplot as plt\n",
    "import seaborn as sns\n",
    "\n",
    "sns.set(style=\"whitegrid\")\n",
    "sns.countplot(dataset['kategori'])\n",
    "\n",
    "#plt.savefig(bar_count_label.png)"
   ]
  },
  {
   "cell_type": "code",
   "execution_count": 108,
   "metadata": {},
   "outputs": [
    {
     "data": {
      "image/png": "[encoded data removed]",
      "text/plain": [
       "<Figure size 432x288 with 1 Axes>"
      ]
     },
     "metadata": {},
     "output_type": "display_data"
    }
   ],
   "source": [
    "#Data to plot\n",
    "labels = ['Sangat Tidak Sehat','Tidak Sehat','Sedang','Baik']\n",
    "explode = (0.01,0.01,0.01,0.01) #explode 1st slice\n",
    "\n",
    "#plot\n",
    "fig,ax = plt.subplots()\n",
    "ax.pie(dataset.kategori.value_counts(), labels=labels, autopct='%.1f%%', explode=explode, shadow=True)\n",
    "ax.legend(labels,loc='best')\n",
    "ax.set_aspect('equal')\n",
    "plt.tight_layout\n",
    "plt.show()\n",
    "\n",
    "#plt.savefig('pie.png')"
   ]
  },
  {
   "cell_type": "code",
   "execution_count": 109,
   "metadata": {},
   "outputs": [
    {
     "data": {
      "text/plain": [
       "Index(['pm10', 'so2', 'co', 'o3', 'no2', 'kategori'], dtype='object')"
      ]
     },
     "execution_count": 109,
     "metadata": {},
     "output_type": "execute_result"
    }
   ],
   "source": [
    "# Menampilkan fitur dataset\n",
    "dataset.columns"
   ]
  },
  {
   "cell_type": "code",
   "execution_count": 111,
   "metadata": {},
   "outputs": [],
   "source": [
    "# Memisahkan atribut menjadi atribut independen dan dependen \n",
    "X = np.array(dataset.drop('kategori', axis=1)) # atribut untuk menentukan variabel dependen / Kelas \n",
    "Y = np.array(dataset['kategori']) # variabel dependen / Kelas"
   ]
  },
  {
   "cell_type": "code",
   "execution_count": 112,
   "metadata": {},
   "outputs": [
    {
     "data": {
      "text/plain": [
       "array([[63.        , 34.        , 25.        , 21.        ,  2.        ],\n",
       "       [16.        , 32.        , 16.        , 19.        ,  1.        ],\n",
       "       [18.        , 32.        , 17.        , 20.        ,  2.        ],\n",
       "       ...,\n",
       "       [50.1131481 , 23.38267045,  6.        , 49.        ,  8.73406403],\n",
       "       [50.1131481 , 23.38267045,  6.        , 51.        ,  8.73406403],\n",
       "       [50.1131481 , 11.        ,  6.        , 34.        ,  2.        ]])"
      ]
     },
     "execution_count": 112,
     "metadata": {},
     "output_type": "execute_result"
    }
   ],
   "source": [
    "X"
   ]
  },
  {
   "cell_type": "code",
   "execution_count": 113,
   "metadata": {},
   "outputs": [
    {
     "data": {
      "text/plain": [
       "array([2, 0, 0, ..., 0, 2, 0])"
      ]
     },
     "execution_count": 113,
     "metadata": {},
     "output_type": "execute_result"
    }
   ],
   "source": [
    "Y"
   ]
  },
  {
   "cell_type": "code",
   "execution_count": 114,
   "metadata": {
    "collapsed": true
   },
   "outputs": [
    {
     "data": {
      "text/plain": [
       "\"\\n#cara 1\\nX_fit = sc.fit(X)\\nX_std = X_fit.transform(X)\\n\\n#cara 2\\nX = sc.fit(X)\\nX = sc.transform(X)\\n\\n#cara3\\nX_std = sc.fit_transform(X)\\n\\n#On split data\\nfrom sklearn.preprocessing import StandardScaler\\nsc = StandardScaler()\\nX_train = sc.fit_transform(X_train)\\nX_test = sc.transform (X_test)\\n\\n#You shouldn't be doing fit_transform(X_test) on the test data.\\n#The fit already occurred above.\\n\\nsc = StandardScaler()\\nX_train = sc.fit_transform(X_train)\\nX_test = sc.transform (X_test)\\n\\nX_train = sc.fit_transform(X_train)\\nX_test = sc.fit_transform (X_test)\\n#Because if X_test = sc.transform(X_test), it returns error X_test is not fitted yet. Or did I miss something here?\\n\""
      ]
     },
     "execution_count": 114,
     "metadata": {},
     "output_type": "execute_result"
    }
   ],
   "source": [
    "# Penskalaan Fitur\n",
    "sc_X = StandardScaler()\n",
    "X = sc_X.fit_transform(X)\n",
    "\n",
    "\"\"\"\n",
    "#cara 1\n",
    "X_fit = sc.fit(X)\n",
    "X_std = X_fit.transform(X)\n",
    "\n",
    "#cara 2\n",
    "X = sc.fit(X)\n",
    "X = sc.transform(X)\n",
    "\n",
    "#cara3\n",
    "X_std = sc.fit_transform(X)\n",
    "\n",
    "#On split data\n",
    "from sklearn.preprocessing import StandardScaler\n",
    "sc = StandardScaler()\n",
    "X_train = sc.fit_transform(X_train)\n",
    "X_test = sc.transform (X_test)\n",
    "\n",
    "#You shouldn't be doing fit_transform(X_test) on the test data.\n",
    "#The fit already occurred above.\n",
    "\n",
    "sc = StandardScaler()\n",
    "X_train = sc.fit_transform(X_train)\n",
    "X_test = sc.transform (X_test)\n",
    "\n",
    "X_train = sc.fit_transform(X_train)\n",
    "X_test = sc.fit_transform (X_test)\n",
    "#Because if X_test = sc.transform(X_test), it returns error X_test is not fitted yet. Or did I miss something here?\n",
    "\"\"\""
   ]
  },
  {
   "cell_type": "code",
   "execution_count": 115,
   "metadata": {},
   "outputs": [
    {
     "data": {
      "text/plain": [
       "array([[ 0.7085977 ,  0.91409752,  0.641088  , -1.29557498, -1.26333208],\n",
       "       [-1.87574889,  0.74190779, -0.23273017, -1.34878238, -1.4509353 ],\n",
       "       [-1.7657767 ,  0.74190779, -0.13563927, -1.32217868, -1.26333208],\n",
       "       [-1.43586011,  0.74190779,  0.34981527, -1.32217868, -1.26333208],\n",
       "       [-1.16092962,  0.74190779,  0.641088  , -1.48180089, -1.26333208]])"
      ]
     },
     "execution_count": 115,
     "metadata": {},
     "output_type": "execute_result"
    }
   ],
   "source": [
    "X[0:5]"
   ]
  },
  {
   "cell_type": "code",
   "execution_count": 116,
   "metadata": {},
   "outputs": [
    {
     "name": "stdout",
     "output_type": "stream",
     "text": [
      "X_train = (2512, 5) (2512,)\n",
      "Y_train = (1077, 5) (1077,)\n"
     ]
    }
   ],
   "source": [
    "from sklearn.model_selection import train_test_split # digunakan untuk memisahkan data pelatihan dan pengujian\n",
    "# Memisahkan kumpulan data menjadi kumpulan data pelatihan dan pengujian\n",
    "# splitting the dataset into training set and test set\n",
    "X_train, X_test, Y_train, Y_test = train_test_split(X, Y, test_size=0.3, random_state=1)\n",
    "print('X_train =', X_train.shape, Y_train.shape)\n",
    "print('Y_train =', X_test.shape, Y_test.shape)"
   ]
  },
  {
   "cell_type": "markdown",
   "metadata": {},
   "source": [
    "### Model SVM"
   ]
  },
  {
   "cell_type": "code",
   "execution_count": 117,
   "metadata": {},
   "outputs": [
    {
     "data": {
      "text/plain": [
       "SVC()"
      ]
     },
     "execution_count": 117,
     "metadata": {},
     "output_type": "execute_result"
    }
   ],
   "source": [
    "from sklearn.svm import SVC #untuk proses klasifikasi dalam algoritma SVM\n",
    "from sklearn.neighbors import KNeighborsClassifier #untuk proses klasifikasi dalam algoritma K-NN\n",
    "\n",
    "#Proses melatih model\n",
    "#Mengaktifkan/memanggil/membuat fungsi klasifikasi Support Vector Machine dengan pemilihan fitur yang akan digunakan\n",
    "svm = SVC()\n",
    "\n",
    "\"\"\"\n",
    "Sesuaikan dengan model/Masukkan ke model/Fit the model. Memasukkan data training pada fungsi klasifikasi SVM.\n",
    "Masukan dalam bentuk parameter yang berisi X_train (kumpulan data pelatihan yang bersifat independen), y_train (kumpulan label \n",
    "untuk semua data di X_train yang bersifat dependen yang perlu diprediksi oleh model)\n",
    "\n",
    "Cocokkan semua transformasi satu demi satu dan transformasikan data, kemudian set data yang ditransformasi menggunakan \n",
    "estimator akhir.\n",
    "\"\"\"\n",
    "#Fitting model dimana model belajar untuk mencari hubungan antara X_train dan y_train \n",
    "svm.fit(X_train,Y_train)"
   ]
  },
  {
   "cell_type": "code",
   "execution_count": 118,
   "metadata": {},
   "outputs": [
    {
     "name": "stdout",
     "output_type": "stream",
     "text": [
      "cross validation score {'fit_time': array([0.09432483, 0.10372162, 0.09877419, 0.09873915, 0.10372615,\n",
      "       0.10167575, 0.10272527, 0.10374093, 0.10277987, 0.09873891]), 'score_time': array([0.00897455, 0.00897813, 0.00789785, 0.00897527, 0.00897455,\n",
      "       0.00804329, 0.00897527, 0.00992012, 0.00897241, 0.00897336]), 'test_score': array([0.93253968, 0.9484127 , 0.94023904, 0.92430279, 0.93227092,\n",
      "       0.92031873, 0.93625498, 0.92828685, 0.93227092, 0.92828685]), 'train_score': array([0.94646018, 0.94778761, 0.95090668, 0.94604157, 0.95179124,\n",
      "       0.94604157, 0.94559929, 0.95002211, 0.95179124, 0.94648386])}\n",
      "====================\n",
      "0.10089466571807862\n",
      "0.00886847972869873\n",
      "0.9482925363904293\n",
      "0.9323183456649591\n"
     ]
    }
   ],
   "source": [
    "from sklearn.model_selection import KFold #Untuk proses KFoldValidation\n",
    "from sklearn.model_selection import cross_val_score, cross_validate #untuk proses validasi dengan nilai perulangan sesuai nilai K\n",
    "\n",
    "cv = KFold(n_splits=10, shuffle=True, random_state=1)\n",
    "accuracy = cross_validate(svm, X_train, Y_train, cv = cv, return_train_score=True)\n",
    "print('cross validation score', accuracy)\n",
    "\n",
    "waktu_train = accuracy['fit_time'].mean()\n",
    "waktu_test = accuracy['score_time'].mean()\n",
    "train_score = accuracy['train_score'].mean()\n",
    "validate_score = accuracy['test_score'].mean()\n",
    "print(\"====================\")\n",
    "print(waktu_train)\n",
    "print(waktu_test)\n",
    "print(train_score)\n",
    "print(validate_score)"
   ]
  },
  {
   "cell_type": "code",
   "execution_count": 119,
   "metadata": {},
   "outputs": [],
   "source": [
    "from sklearn import metrics \n",
    "from sklearn.metrics import classification_report #untuk proses menampilkan evaluasi\n",
    "from sklearn.metrics import accuracy_score #untuk proses menampilkan hasil akurasi dari proses model klasifikasi\n",
    "from sklearn.metrics import precision_recall_curve #untuk proses menampilkan hasil presisi dan recall dari proses model klasifikasi\n",
    "from sklearn.metrics import f1_score #untuk proses menampilkan hasil f1-score dari proses model klasifikasi\n",
    "from sklearn.metrics import roc_curve, auc #untuk proses menampilkan hasil Area Hitung di Bawah Kurva Karakteristik Operasi "
   ]
  },
  {
   "cell_type": "code",
   "execution_count": 120,
   "metadata": {},
   "outputs": [
    {
     "name": "stdout",
     "output_type": "stream",
     "text": [
      "              precision    recall  f1-score   support\n",
      "\n",
      "           0       0.91      0.84      0.88       260\n",
      "           1       0.00      0.00      0.00         7\n",
      "           2       0.92      0.96      0.94       654\n",
      "           3       0.94      0.93      0.94       156\n",
      "\n",
      "    accuracy                           0.92      1077\n",
      "   macro avg       0.69      0.68      0.69      1077\n",
      "weighted avg       0.92      0.92      0.92      1077\n",
      "\n",
      "\n",
      "\n",
      "Accuracy Score - SVM: 0.9238625812441968\n",
      "Train Score - SVM: 0.9498407643312102\n",
      "Test Score - SVM: 0.9238625812441968\n"
     ]
    },
    {
     "name": "stderr",
     "output_type": "stream",
     "text": [
      "C:\\ProgramData\\Anaconda3\\lib\\site-packages\\sklearn\\metrics\\_classification.py:1221: UndefinedMetricWarning: Precision and F-score are ill-defined and being set to 0.0 in labels with no predicted samples. Use `zero_division` parameter to control this behavior.\n",
      "  _warn_prf(average, modifier, msg_start, len(result))\n"
     ]
    }
   ],
   "source": [
    "\"\"\"\n",
    "Perhitungan nilai evaluasi dihasilkan setelah proses validasi, yang dimana dari proses pelatihan, divalidasi dengan data \n",
    "testing yang sudah disiapkan kemudian menghasilkan nilai evaluasi seperti classification report atau metrik performa akurasi, \n",
    "presisi, recall, f1-score\n",
    "\"\"\"\n",
    "\n",
    "#Menentukan hasil prediksi dari X_test\n",
    "#get predictions from model \n",
    "#Selanjutnya melakukan pengujian mengenai keakuratan model SVM terhadap data yang ada, prosesnya dilakukan dengan memprediksi\n",
    "#data setelah proses training yang diprediksi oleh model\n",
    "y_pred_svm = svm.predict(X_test)\n",
    "y_pred_train = svm.predict(X_train)\n",
    "\n",
    "\"\"\"\n",
    "Setelah proses klasifikasi selesai, diperlukan adanya evaluasi untuk menentukan kualitas metode yang telah berhasil dibuat pada \n",
    "tahap sebelumnya. Pada tahap evaluasi ini metrik performa accuracy, precision, recall, dan F1-Score akan digunakan untuk menguji \n",
    "kinerja proses klasifikasi yang ditampilkan melalui function classification_report dimana berisi parameter masukan yaitu y_test\n",
    "(kumpulan label dari semua data di X_test;data pengujian) dan y_pred_svm (proses prediksi kumpulan data pengujian (X_test) yang\n",
    "bersifat variabel independen)\n",
    "\"\"\"\n",
    "# Classify and report the results\n",
    "print(classification_report(Y_test, y_pred_svm))\n",
    "print('\\n')\n",
    "\n",
    "#print('BEST SVM MODEL')\n",
    "print('Accuracy Score - SVM:', metrics.accuracy_score(Y_test, y_pred_svm)) \n",
    "\n",
    "print('Train Score - SVM:', metrics.accuracy_score(Y_train, y_pred_train)) \n",
    "print('Test Score - SVM:', metrics.accuracy_score(Y_test, y_pred_svm)) "
   ]
  },
  {
   "cell_type": "markdown",
   "metadata": {},
   "source": [
    "### Model K-NN"
   ]
  },
  {
   "cell_type": "code",
   "execution_count": 121,
   "metadata": {},
   "outputs": [
    {
     "data": {
      "text/plain": [
       "KNeighborsClassifier(n_neighbors=10)"
      ]
     },
     "execution_count": 121,
     "metadata": {},
     "output_type": "execute_result"
    }
   ],
   "source": [
    "knn = KNeighborsClassifier(n_neighbors = 10)\n",
    "knn.fit(X_train,Y_train)"
   ]
  },
  {
   "cell_type": "code",
   "execution_count": 123,
   "metadata": {},
   "outputs": [
    {
     "name": "stdout",
     "output_type": "stream",
     "text": [
      "cross validation score {'fit_time': array([0.00749803, 0.00698042, 0.00698137, 0.00598192, 0.00598288,\n",
      "       0.00598311, 0.0060029 , 0.00598407, 0.00599742, 0.00598955]), 'score_time': array([0.02992105, 0.0259316 , 0.02592993, 0.02393675, 0.02493525,\n",
      "       0.02622938, 0.02392387, 0.0249331 , 0.02891183, 0.02393031]), 'test_score': array([0.91269841, 0.92857143, 0.88446215, 0.88844622, 0.92828685,\n",
      "       0.92430279, 0.92430279, 0.89641434, 0.91633466, 0.88446215]), 'train_score': array([0.92433628, 0.92079646, 0.92481203, 0.9230429 , 0.92392747,\n",
      "       0.92171605, 0.91773552, 0.92038921, 0.91862008, 0.92083149])}\n",
      "====================\n",
      "0.006338167190551758\n",
      "0.025858306884765626\n",
      "0.9216207489050581\n",
      "0.9088281793461075\n"
     ]
    }
   ],
   "source": [
    "from sklearn.model_selection import KFold #Untuk proses KFoldValidation\n",
    "from sklearn.model_selection import cross_val_score, cross_validate #untuk proses validasi dengan nilai perulangan sesuai nilai K\n",
    "\n",
    "cv = KFold(n_splits=10, shuffle=True, random_state=1)\n",
    "accuracy = cross_validate(knn, X_train, Y_train, cv = cv, return_train_score=True)\n",
    "print('cross validation score', accuracy)\n",
    "\n",
    "waktu_train = accuracy['fit_time'].mean()\n",
    "waktu_test = accuracy['score_time'].mean()\n",
    "train_score = accuracy['train_score'].mean()\n",
    "validate_score = accuracy['test_score'].mean()\n",
    "print(\"====================\")\n",
    "print(waktu_train)\n",
    "print(waktu_test)\n",
    "print(train_score)\n",
    "print(validate_score)"
   ]
  },
  {
   "cell_type": "code",
   "execution_count": 125,
   "metadata": {},
   "outputs": [
    {
     "name": "stdout",
     "output_type": "stream",
     "text": [
      "              precision    recall  f1-score   support\n",
      "\n",
      "           0       0.87      0.85      0.86       260\n",
      "           1       1.00      0.29      0.44         7\n",
      "           2       0.88      0.95      0.92       654\n",
      "           3       0.96      0.73      0.83       156\n",
      "\n",
      "    accuracy                           0.89      1077\n",
      "   macro avg       0.93      0.70      0.76      1077\n",
      "weighted avg       0.89      0.89      0.89      1077\n",
      "\n",
      "\n",
      "\n",
      "Accuracy Score - K-NN: 0.8904363974001857\n",
      "Train Score - K-NN: 0.9231687898089171\n",
      "Test Score - K-NN: 0.8904363974001857\n"
     ]
    }
   ],
   "source": [
    "y_pred_knn = knn.predict(X_test)\n",
    "y_pred_train = knn.predict(X_train)\n",
    "\n",
    "# Classify and report the results\n",
    "print(classification_report(Y_test, y_pred_knn))\n",
    "print('\\n')\n",
    "\n",
    "#print('BEST SVM MODEL')\n",
    "print('Accuracy Score - K-NN:', metrics.accuracy_score(Y_test, y_pred_knn)) \n",
    "\n",
    "print('Train Score - K-NN:', metrics.accuracy_score(Y_train, y_pred_train)) \n",
    "print('Test Score - K-NN:', metrics.accuracy_score(Y_test, y_pred_knn)) "
   ]
  },
  {
   "cell_type": "code",
   "execution_count": 135,
   "metadata": {},
   "outputs": [
    {
     "data": {
      "text/plain": [
       "array([2, 3, 2, 2, 2, 2, 2, 2, 2, 0, 3, 3, 3, 2, 0, 0, 0, 0, 2, 2, 2, 2,\n",
       "       0, 2, 0, 2, 2, 2, 2, 2, 2, 2, 3, 0, 3, 2, 3, 2, 0, 2, 2, 3, 2, 2,\n",
       "       2, 2, 2, 2, 2, 0, 0, 2, 3, 3, 2, 2, 3, 3, 3, 0, 2, 2, 2, 3, 2, 0,\n",
       "       2, 2, 2, 2, 3, 0, 2, 0, 0, 2, 2, 2, 2, 2, 0, 2, 2, 2, 2, 0, 0, 2,\n",
       "       2, 2, 2, 0, 2, 2, 2, 2, 2, 2, 2, 0, 3, 3, 3, 2, 2, 3, 2, 2, 2, 2,\n",
       "       2, 2, 2, 0, 2, 3, 2, 2, 0, 2, 2, 3, 2, 0, 0, 2, 2, 3, 2, 2, 2, 2,\n",
       "       2, 2, 2, 0, 0, 2, 2, 3, 2, 0, 0, 2, 2, 2, 2, 0, 2, 2, 2, 2, 2, 0,\n",
       "       2, 2, 0, 3, 0, 2, 2, 0, 3, 0, 2, 2, 0, 2, 0, 2, 3, 3, 2, 0, 0, 0,\n",
       "       0, 2, 0, 0, 0, 2, 2, 2, 2, 2, 2, 0, 2, 2, 2, 3, 2, 2, 0, 2, 2, 2,\n",
       "       2, 3, 2, 3, 2, 2, 2, 3, 2, 2, 2, 3, 2, 2, 0, 2, 2, 3, 0, 0, 0, 2,\n",
       "       2, 2, 3, 2, 2, 3, 2, 2, 3, 2, 3, 2, 3, 2, 2, 2, 2, 0, 3, 2, 2, 0,\n",
       "       3, 2, 2, 3, 0, 2, 0, 2, 2, 3, 2, 3, 2, 2, 0, 0, 2, 2, 2, 2, 2, 3,\n",
       "       2, 3, 2, 2, 2, 2, 2, 2, 0, 2, 2, 2, 0, 2, 2, 0, 2, 2, 3, 2, 2, 2,\n",
       "       3, 2, 2, 2, 0, 0, 2, 0, 2, 0, 2, 2, 2, 2, 2, 2, 2, 2, 2, 0, 0, 3,\n",
       "       2, 3, 3, 2, 2, 3, 3, 2, 0, 2, 2, 2, 2, 2, 2, 2, 2, 0, 2, 2, 0, 2,\n",
       "       2, 2, 0, 3, 0, 0, 2, 2, 2, 2, 3, 2, 2, 2, 2, 2, 2, 2, 2, 2, 2, 3,\n",
       "       2, 2, 0, 0, 0, 0, 2, 2, 2, 2, 2, 3, 3, 3, 2, 2, 2, 0, 0, 0, 3, 3,\n",
       "       2, 3, 0, 3, 3, 0, 2, 2, 0, 0, 2, 2, 2, 2, 0, 3, 2, 0, 0, 2, 0, 0,\n",
       "       0, 2, 0, 2, 2, 2, 2, 2, 3, 2, 0, 0, 0, 2, 2, 2, 0, 0, 0, 2, 2, 2,\n",
       "       2, 2, 2, 2, 0, 0, 2, 0, 0, 2, 0, 3, 2, 2, 2, 3, 2, 0, 2, 2, 0, 0,\n",
       "       3, 0, 2, 2, 2, 2, 2, 2, 2, 2, 0, 2, 2, 2, 2, 2, 2, 2, 0, 2, 2, 2,\n",
       "       2, 2, 2, 0, 2, 2, 2, 2, 2, 0, 2, 2, 2, 2, 2, 2, 2, 2, 2, 2, 2, 3,\n",
       "       2, 2, 2, 2, 0, 2, 0, 3, 2, 2, 2, 2, 0, 0, 2, 2, 2, 2, 2, 3, 0, 2,\n",
       "       3, 2, 3, 0, 2])"
      ]
     },
     "execution_count": 135,
     "metadata": {},
     "output_type": "execute_result"
    }
   ],
   "source": [
    "y_pred_svm[0:511]"
   ]
  },
  {
   "cell_type": "code",
   "execution_count": 136,
   "metadata": {},
   "outputs": [
    {
     "data": {
      "text/plain": [
       "array([2, 3, 2, 2, 2, 2, 2, 2, 2, 0, 2, 3, 3, 2, 0, 0, 0, 0, 2, 2, 2, 2,\n",
       "       0, 2, 0, 2, 2, 2, 2, 2, 2, 2, 3, 0, 3, 2, 3, 2, 0, 2, 2, 3, 2, 2,\n",
       "       2, 2, 2, 2, 2, 0, 0, 2, 3, 2, 2, 2, 3, 2, 3, 0, 2, 2, 2, 3, 2, 0,\n",
       "       2, 2, 2, 2, 3, 0, 2, 0, 0, 2, 2, 2, 2, 2, 0, 2, 2, 2, 2, 0, 0, 2,\n",
       "       2, 2, 2, 0, 2, 2, 2, 2, 2, 2, 2, 0, 3, 2, 3, 2, 2, 3, 2, 2, 2, 2,\n",
       "       0, 2, 2, 0, 2, 2, 2, 2, 0, 2, 2, 3, 2, 0, 0, 2, 2, 2, 2, 2, 2, 2,\n",
       "       2, 2, 2, 0, 0, 2, 2, 3, 2, 0, 0, 2, 2, 2, 2, 0, 2, 2, 2, 2, 2, 0,\n",
       "       2, 2, 0, 3, 2, 2, 2, 0, 3, 0, 2, 2, 0, 2, 0, 2, 3, 3, 2, 0, 0, 0,\n",
       "       0, 2, 0, 0, 0, 2, 2, 2, 2, 2, 2, 2, 2, 2, 2, 3, 2, 2, 0, 2, 2, 2,\n",
       "       2, 2, 2, 3, 2, 2, 2, 3, 2, 2, 2, 3, 0, 2, 0, 2, 2, 3, 0, 0, 0, 2,\n",
       "       0, 2, 3, 2, 2, 3, 2, 2, 2, 2, 3, 2, 2, 0, 2, 2, 2, 0, 3, 2, 2, 0,\n",
       "       3, 2, 2, 3, 0, 2, 0, 2, 2, 1, 2, 3, 2, 2, 0, 0, 2, 2, 2, 2, 2, 3,\n",
       "       0, 3, 2, 2, 2, 2, 2, 2, 0, 2, 2, 2, 0, 2, 2, 0, 2, 2, 3, 2, 2, 2,\n",
       "       3, 2, 2, 2, 2, 0, 2, 0, 2, 0, 2, 2, 2, 2, 2, 2, 2, 2, 2, 0, 0, 3,\n",
       "       2, 3, 3, 2, 2, 3, 3, 2, 2, 2, 2, 2, 2, 2, 2, 2, 2, 0, 2, 2, 0, 2,\n",
       "       2, 2, 0, 3, 0, 0, 2, 2, 2, 2, 3, 0, 2, 2, 2, 2, 2, 2, 2, 2, 2, 3,\n",
       "       2, 2, 0, 0, 0, 0, 2, 0, 2, 2, 0, 3, 3, 3, 2, 2, 2, 0, 0, 0, 2, 2,\n",
       "       2, 3, 0, 3, 3, 0, 2, 2, 0, 0, 2, 2, 2, 2, 0, 3, 2, 2, 0, 2, 0, 0,\n",
       "       0, 2, 0, 2, 2, 0, 2, 2, 3, 2, 0, 0, 0, 2, 2, 2, 0, 0, 0, 2, 2, 2,\n",
       "       2, 2, 2, 2, 0, 0, 2, 0, 0, 0, 0, 3, 0, 2, 2, 3, 2, 0, 0, 2, 0, 0,\n",
       "       3, 0, 2, 2, 2, 2, 2, 2, 2, 2, 0, 2, 2, 2, 2, 2, 2, 2, 0, 2, 2, 0,\n",
       "       2, 2, 2, 0, 2, 2, 2, 2, 2, 0, 0, 2, 2, 2, 2, 2, 2, 2, 2, 2, 2, 2,\n",
       "       2, 2, 2, 2, 0, 2, 0, 2, 0, 2, 2, 2, 2, 0, 2, 2, 2, 2, 2, 2, 0, 2,\n",
       "       2, 2, 2, 0, 2])"
      ]
     },
     "execution_count": 136,
     "metadata": {},
     "output_type": "execute_result"
    }
   ],
   "source": [
    "y_pred_knn[0:511]"
   ]
  },
  {
   "cell_type": "code",
   "execution_count": null,
   "metadata": {},
   "outputs": [],
   "source": []
  }
 ],
 "metadata": {
  "kernelspec": {
   "display_name": "Python 3",
   "language": "python",
   "name": "python3"
  },
  "language_info": {
   "codemirror_mode": {
    "name": "ipython",
    "version": 3
   },
   "file_extension": ".py",
   "mimetype": "text/x-python",
   "name": "python",
   "nbconvert_exporter": "python",
   "pygments_lexer": "ipython3",
   "version": "3.8.3"
  }
 },
 "nbformat": 4,
 "nbformat_minor": 4
}
